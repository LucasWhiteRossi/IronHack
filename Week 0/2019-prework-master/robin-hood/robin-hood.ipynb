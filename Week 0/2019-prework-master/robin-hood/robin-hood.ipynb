{
 "cells": [
  {
   "cell_type": "markdown",
   "metadata": {},
   "source": [
    "# Robin Hood:\n",
    "We are in a competition to win the archery contest in Sherwood. With our bow and arrows we shoot on a target and try to hit as close as possible to the center.\n",
    "\n",
    "The center of the target is represented by the values (0, 0) on the coordinate axes.\n",
    "\n",
    "![](images/arrows.jpg)\n",
    "\n",
    "## Goals:\n",
    "* data structures: lists, sets, tuples\n",
    "* logical operators: if-elif-else\n",
    "* loop: while/for\n",
    "* minimum (optional sorting)\n",
    "\n",
    "## Description:\n",
    "In the 2-dimensional space, a point can be defined by a pair of values that correspond to the horizontal coordinate (x) and the vertical coordinate (y). The space can be divided into 4 zones (quadrants): Q1, Q2, Q3, Q4. Whose single point of union is the point (0, 0).\n",
    "\n",
    "If a point is in Q1 both its x coordinate and the y are positive. I leave a link to wikipedia to familiarize yourself with these quadrants.\n",
    "\n",
    "https://en.wikipedia.org/wiki/Cartesian_coordinate_system\n",
    "\n",
    "https://en.wikipedia.org/wiki/Euclidean_distance\n",
    "\n",
    "## Shots\n",
    "```\n",
    "points = [(4, 5), (-0, 2), (4, 7), (1, -3), (3, -2), (4, 5),\n",
    "          (3, 2), (5, 7), (-5, 7), (2, 2), (-4, 5), (0, -2),\n",
    "          (-4, 7), (-1, 3), (-3, 2), (-4, -5), (-3, 2),\n",
    "          (5, 7), (5, 7), (2, 2), (9, 9), (-8, -9)]\n",
    "```\n",
    "\n",
    "## Tasks\n",
    "1. Robin Hood is famous for hitting an arrow with another arrow. Did you get it?\n",
    "2. Calculate how many arrows have fallen in each quadrant.\n",
    "3. Find the point closest to the center. Calculate its distance to the center. \n",
    "4. If the target has a radius of 9, calculate the number of arrows that must be picked up in the forest."
   ]
  },
  {
   "cell_type": "markdown",
   "metadata": {},
   "source": [
    "## Variables"
   ]
  },
  {
   "cell_type": "code",
   "execution_count": 5,
   "metadata": {},
   "outputs": [],
   "source": [
    "points = [(4, 5), (-0, 2), (4, 7), (1, -3), (3, -2), (4, 5),\n",
    "          (3, 2), (5, 7), (-5, 7), (2, 2), (-4, 5), (0, -2),\n",
    "          (-4, 7), (-1, 3), (-3, 2), (-4, -5), (-3, 2),\n",
    "          (5, 7), (5, 7), (2, 2), (9, 9), (-8, -9)]"
   ]
  },
  {
   "cell_type": "markdown",
   "metadata": {},
   "source": [
    "## 2. Calculate how many arrows have fallen in each quadrant."
   ]
  },
  {
   "cell_type": "code",
   "execution_count": 6,
   "metadata": {
    "scrolled": true
   },
   "outputs": [
    {
     "name": "stdout",
     "output_type": "stream",
     "text": [
      "\n",
      "If border points are not considered in any quadrant: [Q1, Q2, Q3, Q4] = [10, 6, 2, 2]\n",
      "\n",
      "-------------------------------------------------------------------------\n",
      "If border points are considered in both quadrants: [Q1, Q2, Q3, Q4] = [11, 7, 3, 3]\n",
      "\n",
      "-------------------------------------------------------------------------\n",
      "\n",
      "If border points are considered in one quadrant: [Q1, Q2, Q3, Q4] = [10, 7, 2, 3]\n",
      "\n",
      "-------------------------------------------------------------------------\n"
     ]
    }
   ],
   "source": [
    "#My Question: what should I do if the arrow hit between two quadrants?\n",
    "#Should I create a rule, consider the arrow in both quadrants or in none of them?\n",
    "#___________________________________________________________\n",
    "\n",
    "# First atempt: Considering none of them:\n",
    "Q = [0,0,0,0]  \n",
    "for point in points:\n",
    "    if ((point[0] > 0) & (point[1] > 0)):\n",
    "        Q[0] += 1\n",
    "    if ((point[0] < 0) & (point[1] > 0)):\n",
    "        Q[1] += 1\n",
    "    if ((point[0] < 0) & (point[1] < 0)):\n",
    "        Q[2] += 1\n",
    "    if ((point[0] > 0) & (point[1] < 0)):\n",
    "        Q[3] += 1\n",
    "    \n",
    "\n",
    "print(\"\\nIf border points are not considered in any quadrant: [Q1, Q2, Q3, Q4] = {}\".format(Q))\n",
    "print(\"\\n-------------------------------------------------------------------------\")\n",
    "\n",
    "#______________________________________________________________\n",
    "\n",
    "# Second atempt: Considering both of them:\n",
    "\n",
    "Q = [0,0,0,0]  \n",
    "for point in points:\n",
    "    if ((point[0] >= 0) & (point[1] >= 0)):\n",
    "        Q[0] += 1\n",
    "    if ((point[0] <= 0) & (point[1] >= 0)):\n",
    "        Q[1] += 1\n",
    "    if ((point[0] <= 0) & (point[1] <= 0)):\n",
    "        Q[2] += 1\n",
    "    if ((point[0] >= 0) & (point[1] <= 0)):\n",
    "        Q[3] += 1\n",
    "\n",
    "print(\"If border points are considered in both quadrants: [Q1, Q2, Q3, Q4] = {}\".format(Q))\n",
    "print(\"\\n-------------------------------------------------------------------------\")\n",
    "#______________________________________________________________\n",
    "\n",
    "# Third atempt: \n",
    "# Creating a rule for the border points such that \n",
    "#\n",
    "# (x>0 , y>=0) ===>>> Q1\n",
    "# (x<=0 , y>0) ===>>> Q2\n",
    "# (x<0 , y<=0) ===>>> Q3\n",
    "# (x>=0 , y<0) ===>>> Q4\n",
    "\n",
    "\n",
    "Q = [0,0,0,0]  \n",
    "for point in points:\n",
    "    if ((point[0] > 0) & (point[1] >= 0)):\n",
    "        Q[0] += 1\n",
    "    if ((point[0] <= 0) & (point[1] > 0)):\n",
    "        Q[1] += 1\n",
    "    if ((point[0] < 0) & (point[1] <= 0)):\n",
    "        Q[2] += 1\n",
    "    if ((point[0] >= 0) & (point[1] < 0)):\n",
    "        Q[3] += 1\n",
    "        \n",
    "print(\"\\nIf border points are considered in one quadrant: [Q1, Q2, Q3, Q4] = {}\".format(Q))\n",
    "print(\"\\n-------------------------------------------------------------------------\")"
   ]
  },
  {
   "cell_type": "markdown",
   "metadata": {},
   "source": [
    "### 3. Find the point closest to the center. Calculate its distance to the center\n",
    "#### Defining a function that calculates the distance to the center can help."
   ]
  },
  {
   "cell_type": "code",
   "execution_count": 7,
   "metadata": {},
   "outputs": [
    {
     "name": "stdout",
     "output_type": "stream",
     "text": [
      "-------------------------------------------------------------------------\n",
      "\n",
      "The closest points are [(0, 2), (0, -2)] and their distance to the center is 2.0\n",
      "\n",
      "-------------------------------------------------------------------------\n"
     ]
    }
   ],
   "source": [
    "def find_distances(points):\n",
    "    distances = []\n",
    "    for point in points:\n",
    "        distances.append(((point[0])**2+(point[1])**2)**(1/2))\n",
    "    return distances\n",
    "\n",
    "distances = find_distances(points)\n",
    "\n",
    "# atributing to the variable \"closer\" a value great enough to avoid problems in my comparisons\n",
    "closest = 1000\n",
    "for distance in distances:\n",
    "    if closest > distance:\n",
    "        closest = distance\n",
    "\n",
    "# now let's try to find the tuples of least distance\n",
    "i=0\n",
    "indices_closest = []\n",
    "for distance in distances:\n",
    "    if closest == distance:\n",
    "        indices_closest.append(i)\n",
    "        i += 1\n",
    "    else:\n",
    "        i += 1\n",
    "\n",
    "closest_points =[]\n",
    "for indice in indices_closest:\n",
    "    closest_points.append(points[indice])\n",
    "        \n",
    "print(\"-------------------------------------------------------------------------\")\n",
    "print(\"\\nThe closest points are {} and their distance to the center is {}\".format(closest_points, closest))\n",
    "print(\"\\n-------------------------------------------------------------------------\")\n",
    "    "
   ]
  },
  {
   "cell_type": "markdown",
   "metadata": {},
   "source": [
    "### 4. If the target has a radius of 9, calculate the number of arrows that  must be picked up in the forest."
   ]
  },
  {
   "cell_type": "code",
   "execution_count": 8,
   "metadata": {},
   "outputs": [
    {
     "name": "stdout",
     "output_type": "stream",
     "text": [
      "\n",
      "2 arrows must be picked up in the forest\n"
     ]
    }
   ],
   "source": [
    "\n",
    "\n",
    "out_of_target = 0\n",
    "for distance in distances:\n",
    "    if distance > 9:\n",
    "        out_of_target += 1\n",
    "        \n",
    "print(\"\\n{} arrows must be picked up in the forest\".format(out_of_target))\n"
   ]
  }
 ],
 "metadata": {
  "kernelspec": {
   "display_name": "Python 3",
   "language": "python",
   "name": "python3"
  },
  "language_info": {
   "codemirror_mode": {
    "name": "ipython",
    "version": 3
   },
   "file_extension": ".py",
   "mimetype": "text/x-python",
   "name": "python",
   "nbconvert_exporter": "python",
   "pygments_lexer": "ipython3",
   "version": "3.7.3"
  }
 },
 "nbformat": 4,
 "nbformat_minor": 2
}
