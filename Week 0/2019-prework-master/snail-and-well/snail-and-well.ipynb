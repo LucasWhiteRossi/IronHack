{
 "cells": [
  {
   "cell_type": "markdown",
   "metadata": {},
   "source": [
    "# Snail and well\n",
    "\n",
    "A snail falls at the bottom of a 125 cm well. Each day the snail rises 30 cm. But at night, while sleeping, slides 20 cm because the walls are wet. How many days does it take to escape from the well?\n",
    "\n",
    "TIP: http://puzzles.nigelcoldwell.co.uk/sixtytwo.htm"
   ]
  },
  {
   "cell_type": "markdown",
   "metadata": {},
   "source": [
    "## Solution"
   ]
  },
  {
   "cell_type": "markdown",
   "metadata": {},
   "source": [
    "### Assign problem data to variables with representative names well height, daily advance, night retreat, accumulated distance"
   ]
  },
  {
   "cell_type": "code",
   "execution_count": 7,
   "metadata": {},
   "outputs": [],
   "source": [
    "well_height = 125\n",
    "\n",
    "daily_advance = 30 \n",
    "\n",
    "daily_retreat = 20\n",
    "\n",
    "accumulated_distance = 0"
   ]
  },
  {
   "cell_type": "markdown",
   "metadata": {},
   "source": [
    "### Assign 0 to the variable that represents the solution"
   ]
  },
  {
   "cell_type": "code",
   "execution_count": 8,
   "metadata": {},
   "outputs": [],
   "source": [
    "days = 0"
   ]
  },
  {
   "cell_type": "markdown",
   "metadata": {},
   "source": [
    "### Write the code that solves the problem"
   ]
  },
  {
   "cell_type": "code",
   "execution_count": 9,
   "metadata": {},
   "outputs": [],
   "source": [
    "while well_height > accumulated_distance:\n",
    "    \n",
    "    days += 1\n",
    "    accumulated_distance += daily_advance\n",
    "    if well_height <= accumulated_distance:\n",
    "        break\n",
    "    accumulated_distance -= daily_retreat"
   ]
  },
  {
   "cell_type": "markdown",
   "metadata": {},
   "source": [
    "### Print the result with print('Days =', days)"
   ]
  },
  {
   "cell_type": "code",
   "execution_count": 10,
   "metadata": {},
   "outputs": [
    {
     "name": "stdout",
     "output_type": "stream",
     "text": [
      "Days = 11\n"
     ]
    }
   ],
   "source": [
    "print(\"Days =\", days)"
   ]
  },
  {
   "cell_type": "markdown",
   "metadata": {},
   "source": [
    "## Goals\n",
    "\n",
    "1. Treatment of variables\n",
    "2. Use of loop **while**\n",
    "3. Use of conditional **if-else**\n",
    "4. Print in console"
   ]
  },
  {
   "cell_type": "markdown",
   "metadata": {},
   "source": [
    "## Bonus\n",
    "The distance traveled by the snail is now defined by a list.\n",
    "```\n",
    "advance_cm = [30, 21, 33, 77, 44, 45, 23, 45, 12, 34, 55]\n",
    "```\n",
    "How long does it take to raise the well?\n",
    "\n",
    "What is its maximum displacement in one day? And its minimum?\n",
    "\n",
    "What is its average speed during the day?\n",
    "\n",
    "What is the standard deviation of its displacement during the day?"
   ]
  },
  {
   "cell_type": "markdown",
   "metadata": {},
   "source": [
    "### Assign problem data to variables with representative names well height, daily advance, night retreat, accumulated distance"
   ]
  },
  {
   "cell_type": "code",
   "execution_count": 11,
   "metadata": {},
   "outputs": [],
   "source": [
    "advance_cm = [30, 21, 33, 77, 44, 45, 23, 45, 12, 34, 55]\n",
    "\n",
    "well_height = 125"
   ]
  },
  {
   "cell_type": "markdown",
   "metadata": {},
   "source": [
    "### Assign 0 to the variable that represents the solution"
   ]
  },
  {
   "cell_type": "code",
   "execution_count": 12,
   "metadata": {},
   "outputs": [],
   "source": [
    "days = 0\n",
    "accumulated_distance = 0"
   ]
  },
  {
   "cell_type": "markdown",
   "metadata": {},
   "source": [
    "### Write the code that solves the problem"
   ]
  },
  {
   "cell_type": "code",
   "execution_count": 13,
   "metadata": {},
   "outputs": [],
   "source": [
    "for distancia in advance_cm:\n",
    "    \n",
    "    days += 1\n",
    "    accumulated_distance += distancia\n",
    "    if well_height <= accumulated_distance:\n",
    "        break"
   ]
  },
  {
   "cell_type": "markdown",
   "metadata": {},
   "source": [
    "### Print the result with print('Days =', days)"
   ]
  },
  {
   "cell_type": "code",
   "execution_count": 14,
   "metadata": {},
   "outputs": [
    {
     "name": "stdout",
     "output_type": "stream",
     "text": [
      "Days = 4\n"
     ]
    }
   ],
   "source": [
    "print(\"Days =\", days)\n"
   ]
  },
  {
   "cell_type": "markdown",
   "metadata": {},
   "source": [
    "### What is its maximum displacement in a day? And its minimum?"
   ]
  },
  {
   "cell_type": "code",
   "execution_count": 18,
   "metadata": {},
   "outputs": [
    {
     "name": "stdout",
     "output_type": "stream",
     "text": [
      "The maximum displacement is 77 and the minimum displacement is 12\n",
      "********************************************************************************\n",
      "But, if we consider that the snail gets out of the weel in  4 , then the real max and min displacement shoud happen in those days.\n",
      "Then, the maximum displacement should be 77 and the minimum displacement should be 21\n"
     ]
    }
   ],
   "source": [
    "max_displacement = advance_cm[0]\n",
    "min_displacement = advance_cm[0]\n",
    "\n",
    "for distancia in advance_cm:\n",
    "    if max_displacement < distancia:\n",
    "        max_displacement = distancia\n",
    "\n",
    "for distancia in advance_cm:\n",
    "    if min_displacement > distancia:\n",
    "        min_displacement = distancia\n",
    "\n",
    "print(\"The maximum displacement is {} and the minimum displacement is {}\".format(max_displacement, min_displacement))\n",
    "print(\"********************************************************************************\")\n",
    "print(\"But, if we consider that the snail gets out of the weel in \", days, \", then the real max and min displacement shoud happen in those days and we would have to pay attention and update de valueto the displacement of the last day.\")\n",
    "\n"
   ]
  },
  {
   "cell_type": "markdown",
   "metadata": {},
   "source": [
    "### What is its average progress?\n",
    "\n"
   ]
  },
  {
   "cell_type": "code",
   "execution_count": 16,
   "metadata": {},
   "outputs": [
    {
     "name": "stdout",
     "output_type": "stream",
     "text": [
      "The average speed by day considering the advance list is 38.09090909090909\n"
     ]
    }
   ],
   "source": [
    "#Even though the snail gets earlier outside the well, I will calculate this with the advance list... \n",
    "#Keeping in mind that there is a problem doing this in the \"real case\".    \n",
    "\n",
    "\n",
    "average = 0\n",
    "for distance in advance_cm:\n",
    "    average += distance\n",
    "average = average/len(advance_cm)\n",
    "\n",
    "print(\"The average speed by day considering the advance list is {}\".format(average))"
   ]
  },
  {
   "cell_type": "markdown",
   "metadata": {},
   "source": [
    "### What is the standard deviation of your displacement during the day?"
   ]
  },
  {
   "cell_type": "code",
   "execution_count": 17,
   "metadata": {},
   "outputs": [
    {
     "name": "stdout",
     "output_type": "stream",
     "text": [
      "The standard deviation of the displacement is 17.159437082600803\n"
     ]
    }
   ],
   "source": [
    "STD = 0\n",
    "for distance in advance_cm:\n",
    "    STD += (average - distance)**2\n",
    "STD = STD/len(advance_cm)\n",
    "STD = STD**(1/2)\n",
    "    \n",
    "print(\"The standard deviation of the displacement is {}\".format(STD))"
   ]
  }
 ],
 "metadata": {
  "kernelspec": {
   "display_name": "Python 3",
   "language": "python",
   "name": "python3"
  },
  "language_info": {
   "codemirror_mode": {
    "name": "ipython",
    "version": 3
   },
   "file_extension": ".py",
   "mimetype": "text/x-python",
   "name": "python",
   "nbconvert_exporter": "python",
   "pygments_lexer": "ipython3",
   "version": "3.7.3"
  }
 },
 "nbformat": 4,
 "nbformat_minor": 2
}
