{
 "cells": [
  {
   "cell_type": "markdown",
   "metadata": {},
   "source": [
    "# Duel of sorcerers\n",
    "You are witnessing an epic battle between two powerful sorcerers: Gandalf and Saruman. Each sorcerer has 10 spells of variable power in their mind and they are going to throw them one after the other. The winner of the duel will be the one who wins more of those clashes between spells. Spells are represented as a list of 10 integers whose value equals the power of the spell.\n",
    "```\n",
    "gandalf = [10, 11, 13, 30, 22, 11, 10, 33, 22, 22]\n",
    "saruman = [23, 66, 12, 43, 12, 10, 44, 23, 12, 17]\n",
    "```\n",
    "For example:\n",
    "1. The first clash is won by Saruman: 10 against 23, wins 23\n",
    "2. The second clash wins Saruman: 11 against 66, wins 66\n",
    "3. etc.\n",
    "\n",
    "\n",
    "You will create two variables, one for each sorcerer, where the sum of clashes won will be stored. Depending on which variable is greater at the end of the duel, you will show one of the following three results on the screen:\n",
    "* Gandalf wins\n",
    "* Saruman wins\n",
    "* Tie\n",
    "\n",
    "<img src=\"images/content_lightning_bolt_big.jpg\" width=\"400\">"
   ]
  },
  {
   "cell_type": "markdown",
   "metadata": {},
   "source": [
    "## Solution"
   ]
  },
  {
   "cell_type": "markdown",
   "metadata": {},
   "source": [
    "### Assign spell power lists to variables"
   ]
  },
  {
   "cell_type": "code",
   "execution_count": 2,
   "metadata": {},
   "outputs": [],
   "source": [
    "\n",
    "gandalf = [10, 11, 13, 30, 22, 11, 10, 33, 22, 22]\n",
    "saruman = [23, 66, 12, 43, 12, 10, 44, 23, 12, 17]\n"
   ]
  },
  {
   "cell_type": "markdown",
   "metadata": {},
   "source": [
    "### Assign 0 to each variable that stores the victories"
   ]
  },
  {
   "cell_type": "code",
   "execution_count": 3,
   "metadata": {},
   "outputs": [],
   "source": [
    "W_Gandalf = 0\n",
    "W_Saruman = 0\n",
    "Tie = 0"
   ]
  },
  {
   "cell_type": "markdown",
   "metadata": {},
   "source": [
    "### Execution of spell clashes"
   ]
  },
  {
   "cell_type": "code",
   "execution_count": 4,
   "metadata": {},
   "outputs": [],
   "source": [
    "\n",
    "for i in range(len(gandalf)):\n",
    "    if gandalf[i]> saruman[i]:\n",
    "        W_Gandalf += 1\n",
    "    elif gandalf[i] == saruman[i]:\n",
    "        Tie += 1\n",
    "    else:\n",
    "        W_Saruman += 1\n"
   ]
  },
  {
   "cell_type": "markdown",
   "metadata": {},
   "source": [
    "### We check who has won, do not forget the possibility of a draw. Print the result based on the winner."
   ]
  },
  {
   "cell_type": "code",
   "execution_count": 5,
   "metadata": {},
   "outputs": [
    {
     "name": "stdout",
     "output_type": "stream",
     "text": [
      "Gandalf wins!!!\n"
     ]
    }
   ],
   "source": [
    "if W_Gandalf> W_Saruman:\n",
    "    print (\"Gandalf wins!!!\")\n",
    "elif W_Gandalf == W_Saruman:\n",
    "    print (\"draw\")\n",
    "else:\n",
    "    print (\"Saruman wins!!!\")\n",
    "\n"
   ]
  },
  {
   "cell_type": "markdown",
   "metadata": {},
   "source": [
    "## Goals\n",
    "\n",
    "1. Treatment of lists\n",
    "2. Use of **for loop**\n",
    "3. Use of conditional **if-elif-else**\n",
    "4. Use of the functions **range(), len()**\n",
    "5. Print"
   ]
  },
  {
   "cell_type": "markdown",
   "metadata": {},
   "source": [
    "## Bonus\n",
    "\n",
    "1. Spells now have a name and there is a dictionary that relates that name to a power.\n",
    "2. A sorcerer wins if he succeeds in winning 3 spell clashes in a row.\n",
    "3. Average of each of the spell lists.\n",
    "4. Standard deviation of each of the spell lists.\n",
    "\n",
    "```\n",
    "POWER = {\n",
    "    'Fireball': 50, \n",
    "    'Lightning bolt': 40, \n",
    "    'Magic arrow': 10, \n",
    "    'Black Tentacles': 25, \n",
    "    'Contagion': 45\n",
    "}\n",
    "\n",
    "gandalf = ['Fireball', 'Lightning bolt', 'Lightning bolt', 'Magic arrow', 'Fireball', \n",
    "           'Magic arrow', 'Lightning bolt', 'Fireball', 'Fireball', 'Fireball']\n",
    "saruman = ['Contagion', 'Contagion', 'Black Tentacles', 'Fireball', 'Black Tentacles', \n",
    "           'Lightning bolt', 'Magic arrow', 'Contagion', 'Magic arrow', 'Magic arrow']\n",
    "```\n",
    "\n",
    "Good luck!"
   ]
  },
  {
   "cell_type": "markdown",
   "metadata": {},
   "source": [
    "### 1. Spells now have a name and there is a dictionary that relates that name to a power.\n",
    "## variables"
   ]
  },
  {
   "cell_type": "code",
   "execution_count": 6,
   "metadata": {},
   "outputs": [],
   "source": [
    "POWER = {\n",
    "    'Fireball': 50, \n",
    "    'Lightning bolt': 40, \n",
    "    'Magic arrow': 10, \n",
    "    'Black Tentacles': 25, \n",
    "    'Contagion': 45\n",
    "}\n",
    "\n",
    "gandalf = ['Fireball', 'Lightning bolt', 'Lightning bolt', 'Magic arrow', 'Fireball', \n",
    "           'Magic arrow', 'Lightning bolt', 'Fireball', 'Magic arrow', 'Fireball']\n",
    "saruman = ['Contagion', 'Contagion', 'Black Tentacles', 'Fireball', 'Black Tentacles', \n",
    "           'Lightning bolt', 'Magic arrow', 'Contagion', 'Magic arrow', 'Magic arrow']"
   ]
  },
  {
   "cell_type": "markdown",
   "metadata": {},
   "source": [
    "### Assign spell power lists to variables"
   ]
  },
  {
   "cell_type": "code",
   "execution_count": 7,
   "metadata": {},
   "outputs": [],
   "source": [
    "gandalf_power = []\n",
    "saruman_power = []\n",
    "\n",
    "for spell in gandalf:\n",
    "    gandalf_power.append(POWER[spell])\n",
    "    \n",
    "for spell in saruman:\n",
    "    saruman_power.append(POWER[spell])"
   ]
  },
  {
   "cell_type": "markdown",
   "metadata": {},
   "source": [
    "### 2. A sorcerer wins if he succeeds in winning 3 spell clashes in a row."
   ]
  },
  {
   "cell_type": "code",
   "execution_count": 8,
   "metadata": {},
   "outputs": [],
   "source": [
    "# \"wins\" is a list that keeps track of sequential results.\n",
    "# at each of Gandaf's victory the numer 1 is appended to \"wins\". At each tie, 0 is appended. And at each Saruman's victory, -1.\n",
    "\n",
    "wins =[]\n",
    "\n",
    "for i in range(len(gandalf_power)):\n",
    "    if gandalf_power[i] > saruman_power[i]:\n",
    "        wins.append(1)\n",
    "    elif gandalf_power[i] == saruman_power[i]:\n",
    "        wins.append(0)\n",
    "    else:\n",
    "        wins.append(-1)\n",
    "        \n",
    "\n",
    "\n",
    "\n"
   ]
  },
  {
   "cell_type": "markdown",
   "metadata": {},
   "source": [
    "# Execution of spell clashes\n",
    "### check for 3 wins in a row"
   ]
  },
  {
   "cell_type": "code",
   "execution_count": 9,
   "metadata": {},
   "outputs": [
    {
     "name": "stdout",
     "output_type": "stream",
     "text": [
      "Considering 3 wins in a row: nobody wins.\n"
     ]
    }
   ],
   "source": [
    "\n",
    "winner = \"nobody\"\n",
    "\n",
    "#to avoid comparisons with negative indexes or indexes outside of \"wins\" my iterator will begin in 2 and will increment\n",
    "# alowing me to compare the wins[i] with wins[i-1] and wins[i-2]. \n",
    "for i in range(2,len(wins),1):\n",
    "    if ((wins[i-2]==1)&(wins[i-1]==1)&(wins[i]==1)):\n",
    "        winner = \"Gandalf\"\n",
    "        break\n",
    "    elif ((wins[i-2]==-1)&(wins[i-1]==-1)&(wins[i]==-1)):\n",
    "        winner = \"Saruman\"\n",
    "        break\n",
    "\n",
    "\n",
    "# check the winner\n",
    "\n",
    "print(\"Considering 3 wins in a row: \" + winner + \" wins.\")"
   ]
  },
  {
   "cell_type": "markdown",
   "metadata": {},
   "source": [
    "### 3. Average of each of the spell lists."
   ]
  },
  {
   "cell_type": "code",
   "execution_count": 10,
   "metadata": {},
   "outputs": [
    {
     "name": "stdout",
     "output_type": "stream",
     "text": [
      "The averages are:\n",
      " Average_Gandalf = 35.0\n",
      " Average_Saruman = 30.5\n"
     ]
    }
   ],
   "source": [
    "# yes, there are simpler ways to do this with mean([List]) but... just for the fun...\n",
    "\n",
    "mean_spell_gandalf = 0\n",
    "for spell in gandalf_power:\n",
    "    mean_spell_gandalf +=spell\n",
    "\n",
    "mean_spell_gandalf = mean_spell_gandalf/len(gandalf_power)\n",
    "\n",
    "\n",
    "\n",
    "mean_spell_saruman = 0\n",
    "for spell in saruman_power:\n",
    "    mean_spell_saruman +=spell\n",
    "\n",
    "mean_spell_saruman = mean_spell_saruman/len(saruman_power)\n",
    "\n",
    "\n",
    "print(\"The averages are:\\n Average_Gandalf = {}\\n Average_Saruman = {}\".format(mean_spell_gandalf, mean_spell_saruman))"
   ]
  },
  {
   "cell_type": "markdown",
   "metadata": {},
   "source": [
    "### 4. Standard deviation of each of the spell lists."
   ]
  },
  {
   "cell_type": "code",
   "execution_count": 11,
   "metadata": {},
   "outputs": [
    {
     "name": "stdout",
     "output_type": "stream",
     "text": [
      "The standard deviations are:\n",
      " STD_Gandalf = 16.881943016134134 \n",
      " STD_Saruman = 15.56438241627338\n"
     ]
    }
   ],
   "source": [
    "# Again, avoiding stdev([List]) to keep things fun...\n",
    "\n",
    "std_spell_gandalf = 0\n",
    "for spell in gandalf_power:\n",
    "    std_spell_gandalf += (spell - mean_spell_gandalf)**2\n",
    "std_spell_gandalf = std_spell_gandalf/len(gandalf_power)\n",
    "std_spell_gandalf = (std_spell_gandalf)**(1/2)\n",
    "\n",
    "\n",
    "\n",
    "std_spell_saruman = 0\n",
    "for spell in saruman_power:\n",
    "    std_spell_saruman += (spell - mean_spell_saruman)**2\n",
    "std_spell_saruman = std_spell_saruman/len(saruman_power)\n",
    "std_spell_saruman = (std_spell_saruman)**(1/2)\n",
    "\n",
    "\n",
    "print(\"The standard deviations are:\\n STD_Gandalf = {} \\n STD_Saruman = {}\".format(std_spell_gandalf, std_spell_saruman))"
   ]
  }
 ],
 "metadata": {
  "kernelspec": {
   "display_name": "Python 3",
   "language": "python",
   "name": "python3"
  },
  "language_info": {
   "codemirror_mode": {
    "name": "ipython",
    "version": 3
   },
   "file_extension": ".py",
   "mimetype": "text/x-python",
   "name": "python",
   "nbconvert_exporter": "python",
   "pygments_lexer": "ipython3",
   "version": "3.7.3"
  }
 },
 "nbformat": 4,
 "nbformat_minor": 2
}
