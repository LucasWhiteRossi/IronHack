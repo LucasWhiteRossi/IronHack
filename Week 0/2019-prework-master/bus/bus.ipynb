{
 "cells": [
  {
   "cell_type": "markdown",
   "metadata": {},
   "source": [
    "# Bus\n",
    "\n",
    "This bus has a passenger entry and exit control system to monitor the number of occupants it carries and thus detect when there is too high a capacity.\n",
    "\n",
    "At each stop the entry and exit of passengers is represented by a tuple consisting of two integer numbers.\n",
    "```\n",
    "bus_stop = (in, out)\n",
    "```\n",
    "The succession of stops is represented by a list of these tuples.\n",
    "```\n",
    "stops = [(in1, out1), (in2, out2), (in3, out3), (in4, out4)]\n",
    "```\n",
    "\n",
    "stops = [(10, 0), (4, 1), (3, 5), (3, 4), (5, 1), (1, 5), (5, 8), (4, 6), (2, 3)]\n",
    "\n",
    "\n",
    "## Goals:\n",
    "* lists, tuples\n",
    "* while/for loops\n",
    "* minimum, maximum, length\n",
    "* average, standard deviation\n",
    "\n",
    "## Tasks\n",
    "1. Calculate the number of stops.\n",
    "2. Assign to a variable a list whose elements are the number of passengers at each stop (in-out),\n",
    "3. Find the maximum occupation of the bus.\n",
    "4. Calculate the average occupation. And the standard deviation.\n"
   ]
  },
  {
   "cell_type": "markdown",
   "metadata": {},
   "source": [
    "### variables"
   ]
  },
  {
   "cell_type": "code",
   "execution_count": 14,
   "metadata": {},
   "outputs": [],
   "source": [
    "stops = [(10, 0), (4, 1), (3, 5), (3, 4), (5, 1), (1, 5), (5, 8), (4, 6), (2, 3)]\n",
    "\n",
    "#initial value\n",
    "total_stops = 0"
   ]
  },
  {
   "cell_type": "markdown",
   "metadata": {},
   "source": [
    "### 1. Calculate the number of stops."
   ]
  },
  {
   "cell_type": "code",
   "execution_count": 15,
   "metadata": {
    "scrolled": true
   },
   "outputs": [
    {
     "name": "stdout",
     "output_type": "stream",
     "text": [
      "Total number of stops = 9.\n"
     ]
    }
   ],
   "source": [
    "total_stops = len(stops)\n",
    "print(\"Total number of stops = {}.\".format(total_stops))"
   ]
  },
  {
   "cell_type": "markdown",
   "metadata": {},
   "source": [
    "### 2. Assign a variable a list whose elements are the number of passengers in each stop: \n",
    "Each item depends on the previous item in the list + in - out."
   ]
  },
  {
   "cell_type": "code",
   "execution_count": 16,
   "metadata": {},
   "outputs": [
    {
     "name": "stdout",
     "output_type": "stream",
     "text": [
      "\n",
      "Flux of passangers in each stop: [10, 3, -2, -1, 4, -4, -3, -2, -1]\n",
      "-----------------------------\n",
      "\n",
      "[Answer]: Sequential number of passengers in each stop: [10, 13, 11, 10, 14, 10, 7, 5, 4]\n",
      "-----------------------------\n"
     ]
    }
   ],
   "source": [
    "flux = []\n",
    "for i in range(0,len(stops)):\n",
    "    num = stops[i][0]-stops[i][1]\n",
    "    flux.append(num)\n",
    "\n",
    "total_passenger = flux[:]\n",
    "\n",
    "for i in range(1, len(stops)):\n",
    "    total_passenger[i] = flux[i]+total_passenger[i-1]\n",
    "    \n",
    "print(\"\\nFlux of passangers in each stop: {}\\n-----------------------------\".format(flux))\n",
    "\n",
    "print(\"\\n[Answer]: Sequential number of passengers in each stop: {}\\n-----------------------------\".format(total_passenger))"
   ]
  },
  {
   "cell_type": "markdown",
   "metadata": {},
   "source": [
    "### 3. Find the maximum occupation of the bus."
   ]
  },
  {
   "cell_type": "code",
   "execution_count": 17,
   "metadata": {},
   "outputs": [
    {
     "name": "stdout",
     "output_type": "stream",
     "text": [
      "\n",
      ">>>>>>Maximum ocupation: 14 passengers\n"
     ]
    }
   ],
   "source": [
    "sorted_bus_occupation = total_passenger[:]\n",
    "# sorting: ascending order\n",
    "sorted_bus_occupation.sort()\n",
    "# the last number is the greater one\n",
    "print(\"\\n>>>>>>Maximum ocupation: {} passengers\".format(sorted_bus_occupation[-1]))"
   ]
  },
  {
   "cell_type": "markdown",
   "metadata": {},
   "source": [
    "### 4. Calculate the average occupation. And the standard deviation."
   ]
  },
  {
   "cell_type": "code",
   "execution_count": 18,
   "metadata": {},
   "outputs": [
    {
     "name": "stdout",
     "output_type": "stream",
     "text": [
      "Average occupation: 9.333333333333334 passengers\n",
      "----------------\n",
      "Standard deviation: 3.197221015541813\n"
     ]
    }
   ],
   "source": [
    "\n",
    "#Average\n",
    "Average_occupation = 0\n",
    "for number in total_passenger:\n",
    "    Average_occupation += number\n",
    "Average_occupation = Average_occupation/len(total_passenger)\n",
    "\n",
    "#Std\n",
    "Std_occupation = 0\n",
    "for number in total_passenger:\n",
    "    Std_occupation += (number - Average_occupation)**2\n",
    "\n",
    "Std_occupation = Std_occupation/len(total_passenger)\n",
    "Std_occupation = (Std_occupation)**(1/2)\n",
    "\n",
    "print(\"Average occupation: {} passengers\\n----------------\\nStandard deviation: {}\".format(Average_occupation, Std_occupation))"
   ]
  }
 ],
 "metadata": {
  "kernelspec": {
   "display_name": "Python 3",
   "language": "python",
   "name": "python3"
  },
  "language_info": {
   "codemirror_mode": {
    "name": "ipython",
    "version": 3
   },
   "file_extension": ".py",
   "mimetype": "text/x-python",
   "name": "python",
   "nbconvert_exporter": "python",
   "pygments_lexer": "ipython3",
   "version": "3.7.3"
  }
 },
 "nbformat": 4,
 "nbformat_minor": 2
}
