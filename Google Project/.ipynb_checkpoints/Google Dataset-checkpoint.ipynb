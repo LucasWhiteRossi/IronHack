{
 "cells": [
  {
   "cell_type": "code",
   "execution_count": 1,
   "metadata": {},
   "outputs": [],
   "source": [
    "import pandas as pd\n",
    "import numpy as np\n",
    "\n",
    "import re # para poder utilizar Regex\n",
    "\n",
    "from wordcloud import WordCloud, STOPWORDS, ImageColorGenerator\n",
    "\n",
    "from sklearn.feature_extraction.text import CountVectorizer\n",
    "from sklearn.feature_extraction import stop_words\n",
    "from scipy.spatial.distance import pdist, squareform\n",
    "\n",
    "import seaborn as sns\n",
    "import matplotlib.pyplot as plt\n",
    "\n",
    "import matplotlib.style as mlp\n",
    "mlp.use('default')\n",
    "\n",
    "%matplotlib inline"
   ]
  },
  {
   "cell_type": "markdown",
   "metadata": {},
   "source": [
    "# Dataset: Google Job Skills\n",
    "\n",
    "## Minha missão será entender melhor o perfil das vagas oferecidas pelo google.\n",
    "\n",
    "Perguntas balisadoras: \n",
    "\n",
    "1. Quais são os países com mais vagas anunciadas pela Google? \n",
    "\n",
    "2. Qual o número de vagas oferecidas para o Brasil? \n",
    "\n",
    "3. Quais são as qualificações mínimas e desejáveis que o Google mais exige? \n",
    "\n",
    "4. Quais skills de programação são mais pedidas nas vagas do Google? \n",
    "\n",
    "5. Se eu tivesse um amigo que sonha em se candidatar a uma vaga no Google, que habilidades e skills você falaria para ele desenvolver? E que dicas você daria para ele? \n",
    "\n",
    "6. Se você quisesse montar um sistema de recomendação para a Google achar candidatos, que outras informações além dessas você adicionaria no dataset para melhorar o match com os candidatos?  "
   ]
  },
  {
   "cell_type": "markdown",
   "metadata": {},
   "source": [
    "---------------------------------------------\n",
    "\n",
    "# 1) Primeira parte: Leitura e Análises Preliminares\n",
    "\n",
    "## 1a) Leitura do arquivo: "
   ]
  },
  {
   "cell_type": "code",
   "execution_count": 2,
   "metadata": {},
   "outputs": [],
   "source": [
    "df = pd.read_excel('job_skills.xlsx')"
   ]
  },
  {
   "cell_type": "markdown",
   "metadata": {},
   "source": [
    "## 1b) Informações gerais:"
   ]
  },
  {
   "cell_type": "code",
   "execution_count": 3,
   "metadata": {
    "scrolled": true
   },
   "outputs": [
    {
     "data": {
      "text/html": [
       "<div>\n",
       "<style scoped>\n",
       "    .dataframe tbody tr th:only-of-type {\n",
       "        vertical-align: middle;\n",
       "    }\n",
       "\n",
       "    .dataframe tbody tr th {\n",
       "        vertical-align: top;\n",
       "    }\n",
       "\n",
       "    .dataframe thead th {\n",
       "        text-align: right;\n",
       "    }\n",
       "</style>\n",
       "<table border=\"1\" class=\"dataframe\">\n",
       "  <thead>\n",
       "    <tr style=\"text-align: right;\">\n",
       "      <th></th>\n",
       "      <th>Company</th>\n",
       "      <th>Title</th>\n",
       "      <th>Category</th>\n",
       "      <th>Location</th>\n",
       "      <th>Responsibilities</th>\n",
       "      <th>Minimum Qualifications</th>\n",
       "      <th>Preferred Qualifications</th>\n",
       "    </tr>\n",
       "  </thead>\n",
       "  <tbody>\n",
       "    <tr>\n",
       "      <th>0</th>\n",
       "      <td>Google</td>\n",
       "      <td>Google Cloud Program Manager</td>\n",
       "      <td>Program Management</td>\n",
       "      <td>Singapore</td>\n",
       "      <td>Shape, shepherd, ship, and show technical prog...</td>\n",
       "      <td>BA/BS degree or equivalent practical experienc...</td>\n",
       "      <td>Experience in the business technology market a...</td>\n",
       "    </tr>\n",
       "    <tr>\n",
       "      <th>1</th>\n",
       "      <td>Google</td>\n",
       "      <td>Supplier Development Engineer (SDE), Cable/Con...</td>\n",
       "      <td>Manufacturing &amp; Supply Chain</td>\n",
       "      <td>Shanghai, China</td>\n",
       "      <td>Drive cross-functional activities in the suppl...</td>\n",
       "      <td>BS degree in an Engineering discipline or equi...</td>\n",
       "      <td>BSEE, BSME or BSIE degree.\\nExperience of usin...</td>\n",
       "    </tr>\n",
       "    <tr>\n",
       "      <th>2</th>\n",
       "      <td>Google</td>\n",
       "      <td>Data Analyst, Product and Tools Operations, Go...</td>\n",
       "      <td>Technical Solutions</td>\n",
       "      <td>New York, NY, United States</td>\n",
       "      <td>Collect and analyze data to draw insight and i...</td>\n",
       "      <td>Bachelor’s degree in Business, Economics, Stat...</td>\n",
       "      <td>Experience partnering or consulting cross-func...</td>\n",
       "    </tr>\n",
       "    <tr>\n",
       "      <th>3</th>\n",
       "      <td>Google</td>\n",
       "      <td>Developer Advocate, Partner Engineering</td>\n",
       "      <td>Developer Relations</td>\n",
       "      <td>Mountain View, CA, United States</td>\n",
       "      <td>Work one-on-one with the top Android, iOS, and...</td>\n",
       "      <td>BA/BS degree in Computer Science or equivalent...</td>\n",
       "      <td>Experience as a software developer, architect,...</td>\n",
       "    </tr>\n",
       "    <tr>\n",
       "      <th>4</th>\n",
       "      <td>Google</td>\n",
       "      <td>Program Manager, Audio Visual (AV) Deployments</td>\n",
       "      <td>Program Management</td>\n",
       "      <td>Sunnyvale, CA, United States</td>\n",
       "      <td>Plan requirements with internal customers.\\nPr...</td>\n",
       "      <td>BA/BS degree or equivalent practical experienc...</td>\n",
       "      <td>CTS Certification.\\nExperience in the construc...</td>\n",
       "    </tr>\n",
       "  </tbody>\n",
       "</table>\n",
       "</div>"
      ],
      "text/plain": [
       "  Company                                              Title  \\\n",
       "0  Google                       Google Cloud Program Manager   \n",
       "1  Google  Supplier Development Engineer (SDE), Cable/Con...   \n",
       "2  Google  Data Analyst, Product and Tools Operations, Go...   \n",
       "3  Google            Developer Advocate, Partner Engineering   \n",
       "4  Google     Program Manager, Audio Visual (AV) Deployments   \n",
       "\n",
       "                       Category                          Location  \\\n",
       "0            Program Management                         Singapore   \n",
       "1  Manufacturing & Supply Chain                   Shanghai, China   \n",
       "2           Technical Solutions       New York, NY, United States   \n",
       "3           Developer Relations  Mountain View, CA, United States   \n",
       "4            Program Management      Sunnyvale, CA, United States   \n",
       "\n",
       "                                    Responsibilities  \\\n",
       "0  Shape, shepherd, ship, and show technical prog...   \n",
       "1  Drive cross-functional activities in the suppl...   \n",
       "2  Collect and analyze data to draw insight and i...   \n",
       "3  Work one-on-one with the top Android, iOS, and...   \n",
       "4  Plan requirements with internal customers.\\nPr...   \n",
       "\n",
       "                              Minimum Qualifications  \\\n",
       "0  BA/BS degree or equivalent practical experienc...   \n",
       "1  BS degree in an Engineering discipline or equi...   \n",
       "2  Bachelor’s degree in Business, Economics, Stat...   \n",
       "3  BA/BS degree in Computer Science or equivalent...   \n",
       "4  BA/BS degree or equivalent practical experienc...   \n",
       "\n",
       "                            Preferred Qualifications  \n",
       "0  Experience in the business technology market a...  \n",
       "1  BSEE, BSME or BSIE degree.\\nExperience of usin...  \n",
       "2  Experience partnering or consulting cross-func...  \n",
       "3  Experience as a software developer, architect,...  \n",
       "4  CTS Certification.\\nExperience in the construc...  "
      ]
     },
     "execution_count": 3,
     "metadata": {},
     "output_type": "execute_result"
    }
   ],
   "source": [
    "df.head()"
   ]
  },
  {
   "cell_type": "code",
   "execution_count": 4,
   "metadata": {
    "scrolled": true
   },
   "outputs": [
    {
     "name": "stdout",
     "output_type": "stream",
     "text": [
      "<class 'pandas.core.frame.DataFrame'>\n",
      "RangeIndex: 1250 entries, 0 to 1249\n",
      "Data columns (total 7 columns):\n",
      "Company                     1250 non-null object\n",
      "Title                       1250 non-null object\n",
      "Category                    1250 non-null object\n",
      "Location                    1250 non-null object\n",
      "Responsibilities            1235 non-null object\n",
      "Minimum Qualifications      1236 non-null object\n",
      "Preferred Qualifications    1236 non-null object\n",
      "dtypes: object(7)\n",
      "memory usage: 68.4+ KB\n"
     ]
    }
   ],
   "source": [
    "df.info()"
   ]
  },
  {
   "cell_type": "markdown",
   "metadata": {},
   "source": [
    "## 1c) Verificando as informações faltantes:"
   ]
  },
  {
   "cell_type": "code",
   "execution_count": 5,
   "metadata": {
    "scrolled": false
   },
   "outputs": [
    {
     "data": {
      "text/html": [
       "<div>\n",
       "<style scoped>\n",
       "    .dataframe tbody tr th:only-of-type {\n",
       "        vertical-align: middle;\n",
       "    }\n",
       "\n",
       "    .dataframe tbody tr th {\n",
       "        vertical-align: top;\n",
       "    }\n",
       "\n",
       "    .dataframe thead th {\n",
       "        text-align: right;\n",
       "    }\n",
       "</style>\n",
       "<table border=\"1\" class=\"dataframe\">\n",
       "  <thead>\n",
       "    <tr style=\"text-align: right;\">\n",
       "      <th></th>\n",
       "      <th>Company</th>\n",
       "      <th>Title</th>\n",
       "      <th>Category</th>\n",
       "      <th>Location</th>\n",
       "      <th>Responsibilities</th>\n",
       "      <th>Minimum Qualifications</th>\n",
       "      <th>Preferred Qualifications</th>\n",
       "    </tr>\n",
       "  </thead>\n",
       "  <tbody>\n",
       "    <tr>\n",
       "      <th>15</th>\n",
       "      <td>Google</td>\n",
       "      <td>Manufacturing Test Engineer</td>\n",
       "      <td>Hardware Engineering</td>\n",
       "      <td>South San Francisco, CA, United States</td>\n",
       "      <td>NaN</td>\n",
       "      <td>NaN</td>\n",
       "      <td>NaN</td>\n",
       "    </tr>\n",
       "    <tr>\n",
       "      <th>72</th>\n",
       "      <td>Google</td>\n",
       "      <td>Software Engineer, Android Applications, Veril...</td>\n",
       "      <td>Software Engineering</td>\n",
       "      <td>Cambridge, MA, United States</td>\n",
       "      <td>NaN</td>\n",
       "      <td>NaN</td>\n",
       "      <td>NaN</td>\n",
       "    </tr>\n",
       "    <tr>\n",
       "      <th>91</th>\n",
       "      <td>Google</td>\n",
       "      <td>Analog / Mixed Signal IC Design Engineer, Veri...</td>\n",
       "      <td>Hardware Engineering</td>\n",
       "      <td>South San Francisco, CA, United States</td>\n",
       "      <td>NaN</td>\n",
       "      <td>NaN</td>\n",
       "      <td>NaN</td>\n",
       "    </tr>\n",
       "    <tr>\n",
       "      <th>97</th>\n",
       "      <td>Google</td>\n",
       "      <td>Program Manager, Behavioral Health, Verily Lif...</td>\n",
       "      <td>Program Management</td>\n",
       "      <td>South San Francisco, CA, United States</td>\n",
       "      <td>NaN</td>\n",
       "      <td>NaN</td>\n",
       "      <td>NaN</td>\n",
       "    </tr>\n",
       "    <tr>\n",
       "      <th>98</th>\n",
       "      <td>Google</td>\n",
       "      <td>Software Engineer, Android Applications, Veril...</td>\n",
       "      <td>Software Engineering</td>\n",
       "      <td>South San Francisco, CA, United States</td>\n",
       "      <td>NaN</td>\n",
       "      <td>NaN</td>\n",
       "      <td>NaN</td>\n",
       "    </tr>\n",
       "    <tr>\n",
       "      <th>123</th>\n",
       "      <td>Google</td>\n",
       "      <td>Manufacturing Engineer, Verily Life Sciences -...</td>\n",
       "      <td>Hardware Engineering</td>\n",
       "      <td>South San Francisco, CA, United States</td>\n",
       "      <td>NaN</td>\n",
       "      <td>NaN</td>\n",
       "      <td>NaN</td>\n",
       "    </tr>\n",
       "    <tr>\n",
       "      <th>150</th>\n",
       "      <td>Google</td>\n",
       "      <td>IC Test Engineer, Verily Life Sciences - South...</td>\n",
       "      <td>Hardware Engineering</td>\n",
       "      <td>South San Francisco, CA, United States</td>\n",
       "      <td>NaN</td>\n",
       "      <td>NaN</td>\n",
       "      <td>NaN</td>\n",
       "    </tr>\n",
       "    <tr>\n",
       "      <th>160</th>\n",
       "      <td>Google</td>\n",
       "      <td>Software Engineer, Verily Life Sciences - Sout...</td>\n",
       "      <td>Software Engineering</td>\n",
       "      <td>South San Francisco, CA, United States</td>\n",
       "      <td>NaN</td>\n",
       "      <td>NaN</td>\n",
       "      <td>NaN</td>\n",
       "    </tr>\n",
       "    <tr>\n",
       "      <th>202</th>\n",
       "      <td>Google</td>\n",
       "      <td>Firmware Engineer, Verily Life Sciences - Sout...</td>\n",
       "      <td>Software Engineering</td>\n",
       "      <td>South San Francisco, CA, United States</td>\n",
       "      <td>NaN</td>\n",
       "      <td>NaN</td>\n",
       "      <td>NaN</td>\n",
       "    </tr>\n",
       "    <tr>\n",
       "      <th>206</th>\n",
       "      <td>Google</td>\n",
       "      <td>Software Test Engineer, Mobile and Web Applica...</td>\n",
       "      <td>Software Engineering</td>\n",
       "      <td>Mountain View, CA, United States</td>\n",
       "      <td>NaN</td>\n",
       "      <td>NaN</td>\n",
       "      <td>NaN</td>\n",
       "    </tr>\n",
       "    <tr>\n",
       "      <th>210</th>\n",
       "      <td>Google</td>\n",
       "      <td>iOS Application Developer, Project Baseline, V...</td>\n",
       "      <td>Software Engineering</td>\n",
       "      <td>Mountain View, CA, United States</td>\n",
       "      <td>NaN</td>\n",
       "      <td>NaN</td>\n",
       "      <td>NaN</td>\n",
       "    </tr>\n",
       "    <tr>\n",
       "      <th>230</th>\n",
       "      <td>Google</td>\n",
       "      <td>Technical Solutions Consultant, Verily Life Sc...</td>\n",
       "      <td>Technical Solutions</td>\n",
       "      <td>Mountain View, CA, United States</td>\n",
       "      <td>NaN</td>\n",
       "      <td>NaN</td>\n",
       "      <td>NaN</td>\n",
       "    </tr>\n",
       "    <tr>\n",
       "      <th>241</th>\n",
       "      <td>Google</td>\n",
       "      <td>Technical Program Manager, Test Engineering, V...</td>\n",
       "      <td>Program Management</td>\n",
       "      <td>South San Francisco, CA, United States</td>\n",
       "      <td>NaN</td>\n",
       "      <td>NaN</td>\n",
       "      <td>NaN</td>\n",
       "    </tr>\n",
       "    <tr>\n",
       "      <th>286</th>\n",
       "      <td>Google</td>\n",
       "      <td>Software Test Engineer, Devices, Verily Life S...</td>\n",
       "      <td>Software Engineering</td>\n",
       "      <td>South San Francisco, CA, United States</td>\n",
       "      <td>NaN</td>\n",
       "      <td>NaN</td>\n",
       "      <td>NaN</td>\n",
       "    </tr>\n",
       "    <tr>\n",
       "      <th>307</th>\n",
       "      <td>Google</td>\n",
       "      <td>Strategic Partner Development Manager, Retail ...</td>\n",
       "      <td>Partnerships</td>\n",
       "      <td>München, Germany</td>\n",
       "      <td>NaN</td>\n",
       "      <td>BA/BS degree or equivalent practical experienc...</td>\n",
       "      <td>Relevant experience in sales management, busin...</td>\n",
       "    </tr>\n",
       "  </tbody>\n",
       "</table>\n",
       "</div>"
      ],
      "text/plain": [
       "    Company                                              Title  \\\n",
       "15   Google                        Manufacturing Test Engineer   \n",
       "72   Google  Software Engineer, Android Applications, Veril...   \n",
       "91   Google  Analog / Mixed Signal IC Design Engineer, Veri...   \n",
       "97   Google  Program Manager, Behavioral Health, Verily Lif...   \n",
       "98   Google  Software Engineer, Android Applications, Veril...   \n",
       "123  Google  Manufacturing Engineer, Verily Life Sciences -...   \n",
       "150  Google  IC Test Engineer, Verily Life Sciences - South...   \n",
       "160  Google  Software Engineer, Verily Life Sciences - Sout...   \n",
       "202  Google  Firmware Engineer, Verily Life Sciences - Sout...   \n",
       "206  Google  Software Test Engineer, Mobile and Web Applica...   \n",
       "210  Google  iOS Application Developer, Project Baseline, V...   \n",
       "230  Google  Technical Solutions Consultant, Verily Life Sc...   \n",
       "241  Google  Technical Program Manager, Test Engineering, V...   \n",
       "286  Google  Software Test Engineer, Devices, Verily Life S...   \n",
       "307  Google  Strategic Partner Development Manager, Retail ...   \n",
       "\n",
       "                 Category                                Location  \\\n",
       "15   Hardware Engineering  South San Francisco, CA, United States   \n",
       "72   Software Engineering            Cambridge, MA, United States   \n",
       "91   Hardware Engineering  South San Francisco, CA, United States   \n",
       "97     Program Management  South San Francisco, CA, United States   \n",
       "98   Software Engineering  South San Francisco, CA, United States   \n",
       "123  Hardware Engineering  South San Francisco, CA, United States   \n",
       "150  Hardware Engineering  South San Francisco, CA, United States   \n",
       "160  Software Engineering  South San Francisco, CA, United States   \n",
       "202  Software Engineering  South San Francisco, CA, United States   \n",
       "206  Software Engineering        Mountain View, CA, United States   \n",
       "210  Software Engineering        Mountain View, CA, United States   \n",
       "230   Technical Solutions        Mountain View, CA, United States   \n",
       "241    Program Management  South San Francisco, CA, United States   \n",
       "286  Software Engineering  South San Francisco, CA, United States   \n",
       "307          Partnerships                        München, Germany   \n",
       "\n",
       "    Responsibilities                             Minimum Qualifications  \\\n",
       "15               NaN                                                NaN   \n",
       "72               NaN                                                NaN   \n",
       "91               NaN                                                NaN   \n",
       "97               NaN                                                NaN   \n",
       "98               NaN                                                NaN   \n",
       "123              NaN                                                NaN   \n",
       "150              NaN                                                NaN   \n",
       "160              NaN                                                NaN   \n",
       "202              NaN                                                NaN   \n",
       "206              NaN                                                NaN   \n",
       "210              NaN                                                NaN   \n",
       "230              NaN                                                NaN   \n",
       "241              NaN                                                NaN   \n",
       "286              NaN                                                NaN   \n",
       "307              NaN  BA/BS degree or equivalent practical experienc...   \n",
       "\n",
       "                              Preferred Qualifications  \n",
       "15                                                 NaN  \n",
       "72                                                 NaN  \n",
       "91                                                 NaN  \n",
       "97                                                 NaN  \n",
       "98                                                 NaN  \n",
       "123                                                NaN  \n",
       "150                                                NaN  \n",
       "160                                                NaN  \n",
       "202                                                NaN  \n",
       "206                                                NaN  \n",
       "210                                                NaN  \n",
       "230                                                NaN  \n",
       "241                                                NaN  \n",
       "286                                                NaN  \n",
       "307  Relevant experience in sales management, busin...  "
      ]
     },
     "execution_count": 5,
     "metadata": {},
     "output_type": "execute_result"
    }
   ],
   "source": [
    "df[df.isnull().any(axis=1)]"
   ]
  },
  {
   "cell_type": "code",
   "execution_count": 6,
   "metadata": {},
   "outputs": [
    {
     "data": {
      "text/plain": [
       "15"
      ]
     },
     "execution_count": 6,
     "metadata": {},
     "output_type": "execute_result"
    }
   ],
   "source": [
    "df[df.isnull().any(axis=1)].shape[0] #Apenas 15 linhas apresentam informações faltantes. Ainda assim, não vejo necessidade em retirar tais linhas ainda."
   ]
  },
  {
   "cell_type": "markdown",
   "metadata": {},
   "source": [
    "Este conjunto de vagas não apresenta informações quanto a uma ou mais destas colunas: 'Responsibilities' (responsabilidades), 'Minimum Qualifications' (qualificação mínima) e 'Preferred Qualifications' (qualificação desejada)."
   ]
  },
  {
   "cell_type": "markdown",
   "metadata": {},
   "source": [
    "-------------------------------------\n",
    "\n",
    "# 2) EDA: Exploratory Data Analysis"
   ]
  },
  {
   "cell_type": "markdown",
   "metadata": {},
   "source": [
    "## 2a) Qual a composição da coluna 'Company'?"
   ]
  },
  {
   "cell_type": "code",
   "execution_count": 7,
   "metadata": {
    "scrolled": true
   },
   "outputs": [
    {
     "data": {
      "text/plain": [
       "Google     0.9816\n",
       "YouTube    0.0184\n",
       "Name: Company, dtype: float64"
      ]
     },
     "execution_count": 7,
     "metadata": {},
     "output_type": "execute_result"
    }
   ],
   "source": [
    "# Apenas para verificar a porcentagem de vagas anunciadas por cada companhia: \n",
    "df['Company'].value_counts()/df['Company'].shape[0]"
   ]
  },
  {
   "cell_type": "markdown",
   "metadata": {},
   "source": [
    "#### Em uma primeira análise, sabendo que o Youtube compõe o grupo Google, não criaremos distinções entre as duas."
   ]
  },
  {
   "cell_type": "code",
   "execution_count": 8,
   "metadata": {
    "scrolled": true
   },
   "outputs": [
    {
     "data": {
      "text/html": [
       "<div>\n",
       "<style scoped>\n",
       "    .dataframe tbody tr th:only-of-type {\n",
       "        vertical-align: middle;\n",
       "    }\n",
       "\n",
       "    .dataframe tbody tr th {\n",
       "        vertical-align: top;\n",
       "    }\n",
       "\n",
       "    .dataframe thead th {\n",
       "        text-align: right;\n",
       "    }\n",
       "</style>\n",
       "<table border=\"1\" class=\"dataframe\">\n",
       "  <thead>\n",
       "    <tr style=\"text-align: right;\">\n",
       "      <th></th>\n",
       "      <th>Company</th>\n",
       "      <th>Title</th>\n",
       "      <th>Category</th>\n",
       "      <th>Location</th>\n",
       "      <th>Responsibilities</th>\n",
       "      <th>Minimum Qualifications</th>\n",
       "      <th>Preferred Qualifications</th>\n",
       "    </tr>\n",
       "  </thead>\n",
       "  <tbody>\n",
       "    <tr>\n",
       "      <th>159</th>\n",
       "      <td>YouTube</td>\n",
       "      <td>Product Strategist, Growth, YouTube</td>\n",
       "      <td>Business Strategy</td>\n",
       "      <td>San Bruno, CA, United States</td>\n",
       "      <td>Help define the performance metrics and goals ...</td>\n",
       "      <td>BA/BS degree or equivalent practical experienc...</td>\n",
       "      <td>10 years of experience in an analytically-inte...</td>\n",
       "    </tr>\n",
       "    <tr>\n",
       "      <th>309</th>\n",
       "      <td>YouTube</td>\n",
       "      <td>Performance Video Agency Specialist, YouTube</td>\n",
       "      <td>Sales &amp; Account Management</td>\n",
       "      <td>New York, NY, United States</td>\n",
       "      <td>Manage Performance relationships from C-level ...</td>\n",
       "      <td>BA/BS degree or equivalent practical experienc...</td>\n",
       "      <td>Established experience relationships and prese...</td>\n",
       "    </tr>\n",
       "    <tr>\n",
       "      <th>326</th>\n",
       "      <td>YouTube</td>\n",
       "      <td>Quality Program Manager, Global Vendor Operati...</td>\n",
       "      <td>Product &amp; Customer Support</td>\n",
       "      <td>Hyderabad, India</td>\n",
       "      <td>Build a global quality assurance program, driv...</td>\n",
       "      <td>BA/BS degree or equivalent practical experienc...</td>\n",
       "      <td>Strong project management skills (e.g. ability...</td>\n",
       "    </tr>\n",
       "    <tr>\n",
       "      <th>421</th>\n",
       "      <td>YouTube</td>\n",
       "      <td>Online Partner Manager (MENA), YouTube</td>\n",
       "      <td>Partnerships</td>\n",
       "      <td>London, United Kingdom</td>\n",
       "      <td>Manage and help grow a portfolio of YouTube cr...</td>\n",
       "      <td>BA/BS degree or equivalent practical experienc...</td>\n",
       "      <td>Experience in the video, media, and/or enterta...</td>\n",
       "    </tr>\n",
       "    <tr>\n",
       "      <th>466</th>\n",
       "      <td>YouTube</td>\n",
       "      <td>Product Strategist, Growth, YouTube</td>\n",
       "      <td>Business Strategy</td>\n",
       "      <td>San Bruno, CA, United States</td>\n",
       "      <td>Help define the performance metrics and goals ...</td>\n",
       "      <td>BA/BS degree or equivalent practical experienc...</td>\n",
       "      <td>10 years of experience in an analytically-inte...</td>\n",
       "    </tr>\n",
       "    <tr>\n",
       "      <th>514</th>\n",
       "      <td>YouTube</td>\n",
       "      <td>Enforcement Analyst, Trust and Safety, YouTube</td>\n",
       "      <td>Product &amp; Customer Support</td>\n",
       "      <td>Singapore</td>\n",
       "      <td>Develop and implement strategies to enforce Yo...</td>\n",
       "      <td>Master of Science degree in a technical field ...</td>\n",
       "      <td>Experience or demonstrated interest in content...</td>\n",
       "    </tr>\n",
       "    <tr>\n",
       "      <th>601</th>\n",
       "      <td>YouTube</td>\n",
       "      <td>Product Marketing Manager, YouTube</td>\n",
       "      <td>Marketing &amp; Communications</td>\n",
       "      <td>Stockholm, Sweden</td>\n",
       "      <td>Work across several aspects of marketing – fro...</td>\n",
       "      <td>BA/BS degree or equivalent practical experienc...</td>\n",
       "      <td>MBA degree in a related field.\\nExperience dev...</td>\n",
       "    </tr>\n",
       "    <tr>\n",
       "      <th>643</th>\n",
       "      <td>YouTube</td>\n",
       "      <td>Consumer Product Marketing Manager, YouTube</td>\n",
       "      <td>Marketing &amp; Communications</td>\n",
       "      <td>Mexico City, Mexico</td>\n",
       "      <td>Seek actionable consumer insights to inform pr...</td>\n",
       "      <td>BA/BS degree or equivalent practical experienc...</td>\n",
       "      <td>MBA degree.\\nDemonstrated passion for consumer...</td>\n",
       "    </tr>\n",
       "    <tr>\n",
       "      <th>655</th>\n",
       "      <td>YouTube</td>\n",
       "      <td>Global Head of Music Social and Influencer Mar...</td>\n",
       "      <td>Marketing &amp; Communications</td>\n",
       "      <td>New York, NY, United States</td>\n",
       "      <td>Be responsible for building the social media a...</td>\n",
       "      <td>BA/BS degree or equivalent practical experienc...</td>\n",
       "      <td>Experience in the music industry, with an unde...</td>\n",
       "    </tr>\n",
       "    <tr>\n",
       "      <th>677</th>\n",
       "      <td>YouTube</td>\n",
       "      <td>Global Head of Music Social and Influencer Mar...</td>\n",
       "      <td>Marketing &amp; Communications</td>\n",
       "      <td>San Bruno, CA, United States</td>\n",
       "      <td>Be responsible for building the social media a...</td>\n",
       "      <td>BA/BS degree or equivalent practical experienc...</td>\n",
       "      <td>Experience in the music industry, with an unde...</td>\n",
       "    </tr>\n",
       "    <tr>\n",
       "      <th>856</th>\n",
       "      <td>YouTube</td>\n",
       "      <td>Interaction Designer, YouTube</td>\n",
       "      <td>User Experience &amp; Design</td>\n",
       "      <td>San Bruno, CA, United States</td>\n",
       "      <td>Help to define the user model and user interfa...</td>\n",
       "      <td>BA/BS degree in Design (e.g., interaction, gra...</td>\n",
       "      <td>MA/MS degree in Design, HCI, CS, or a related ...</td>\n",
       "    </tr>\n",
       "    <tr>\n",
       "      <th>897</th>\n",
       "      <td>YouTube</td>\n",
       "      <td>Scaled Abuse Analyst, YouTube</td>\n",
       "      <td>Business Strategy</td>\n",
       "      <td>San Bruno, CA, United States</td>\n",
       "      <td>Apply advanced statistical methods to large co...</td>\n",
       "      <td>BA/BS degree or equivalent practical experienc...</td>\n",
       "      <td>Experience with classification systems, rankin...</td>\n",
       "    </tr>\n",
       "    <tr>\n",
       "      <th>912</th>\n",
       "      <td>YouTube</td>\n",
       "      <td>Product Strategist, Growth, YouTube</td>\n",
       "      <td>Business Strategy</td>\n",
       "      <td>San Bruno, CA, United States</td>\n",
       "      <td>Help define the performance metrics and goals ...</td>\n",
       "      <td>BA/BS degree or equivalent practical experienc...</td>\n",
       "      <td>10 years of experience in an analytically-inte...</td>\n",
       "    </tr>\n",
       "    <tr>\n",
       "      <th>919</th>\n",
       "      <td>YouTube</td>\n",
       "      <td>Principal, Strategy, YouTube</td>\n",
       "      <td>Business Strategy</td>\n",
       "      <td>San Bruno, CA, United States</td>\n",
       "      <td>Work with YouTube’s leadership teams to define...</td>\n",
       "      <td>BA/BS degree or equivalent practical experienc...</td>\n",
       "      <td>MBA or Master's degree in Computer Science, En...</td>\n",
       "    </tr>\n",
       "    <tr>\n",
       "      <th>947</th>\n",
       "      <td>YouTube</td>\n",
       "      <td>Risk Advisor, YouTube</td>\n",
       "      <td>Finance</td>\n",
       "      <td>San Bruno, CA, United States</td>\n",
       "      <td>Partner closely with Product, Engineering, Ope...</td>\n",
       "      <td>BA/BS degree or equivalent practical experienc...</td>\n",
       "      <td>MBA degree.\\nCPA certification.\\nExperience in...</td>\n",
       "    </tr>\n",
       "    <tr>\n",
       "      <th>1011</th>\n",
       "      <td>YouTube</td>\n",
       "      <td>Residual Manager, YouTube Originals</td>\n",
       "      <td>Finance</td>\n",
       "      <td>Los Angeles, CA, United States</td>\n",
       "      <td>Manage all aspects of residual payment needs a...</td>\n",
       "      <td>BA/BS degree or equivalent practical experienc...</td>\n",
       "      <td>Experience in people and project management, i...</td>\n",
       "    </tr>\n",
       "    <tr>\n",
       "      <th>1033</th>\n",
       "      <td>YouTube</td>\n",
       "      <td>Residual Manager, YouTube Originals</td>\n",
       "      <td>Finance</td>\n",
       "      <td>San Bruno, CA, United States</td>\n",
       "      <td>Manage all aspects of residual payment needs a...</td>\n",
       "      <td>BA/BS degree or equivalent practical experienc...</td>\n",
       "      <td>Experience in people and project management, i...</td>\n",
       "    </tr>\n",
       "    <tr>\n",
       "      <th>1061</th>\n",
       "      <td>YouTube</td>\n",
       "      <td>Associate Legal Counsel, Development, Producti...</td>\n",
       "      <td>Legal &amp; Government Relations</td>\n",
       "      <td>Los Angeles, CA, United States</td>\n",
       "      <td>Consult on and draft agreements relating to th...</td>\n",
       "      <td>Admitted to the bar in which this position is ...</td>\n",
       "      <td>5 years of experience in entertainment law.\\nE...</td>\n",
       "    </tr>\n",
       "    <tr>\n",
       "      <th>1069</th>\n",
       "      <td>YouTube</td>\n",
       "      <td>Legal and Policy Operations Specialist (Englis...</td>\n",
       "      <td>Legal &amp; Government Relations</td>\n",
       "      <td>Singapore</td>\n",
       "      <td>Coordinate Legal operations escalations across...</td>\n",
       "      <td>Experience in project and process management, ...</td>\n",
       "      <td>Experience in Legal operations and/or Policy e...</td>\n",
       "    </tr>\n",
       "    <tr>\n",
       "      <th>1087</th>\n",
       "      <td>YouTube</td>\n",
       "      <td>Legal Counsel, Development, Production and Lic...</td>\n",
       "      <td>Legal &amp; Government Relations</td>\n",
       "      <td>Los Angeles, CA, United States</td>\n",
       "      <td>Advise management on legal challenges and agre...</td>\n",
       "      <td>Admitted to the bar in which this position is ...</td>\n",
       "      <td>12 years of experience in entertainment law wi...</td>\n",
       "    </tr>\n",
       "    <tr>\n",
       "      <th>1168</th>\n",
       "      <td>YouTube</td>\n",
       "      <td>Product Strategist, Growth, YouTube</td>\n",
       "      <td>Business Strategy</td>\n",
       "      <td>San Bruno, CA, United States</td>\n",
       "      <td>Help define the performance metrics and goals ...</td>\n",
       "      <td>BA/BS degree or equivalent practical experienc...</td>\n",
       "      <td>10 years of experience in an analytically-inte...</td>\n",
       "    </tr>\n",
       "    <tr>\n",
       "      <th>1214</th>\n",
       "      <td>YouTube</td>\n",
       "      <td>Executive/Administrative Business Partner, You...</td>\n",
       "      <td>Administrative</td>\n",
       "      <td>Los Angeles, CA, United States</td>\n",
       "      <td>Perform an array of administrative tasks (mana...</td>\n",
       "      <td>BA/BS degree or equivalent practical experienc...</td>\n",
       "      <td>Experience serving as a Project Lead from conc...</td>\n",
       "    </tr>\n",
       "    <tr>\n",
       "      <th>1226</th>\n",
       "      <td>YouTube</td>\n",
       "      <td>Real Estate and Workplace Services (REWS) Busi...</td>\n",
       "      <td>Real Estate &amp; Workplace Services</td>\n",
       "      <td>San Bruno, CA, United States</td>\n",
       "      <td>Thrive amidst ambiguity and be comfortable nav...</td>\n",
       "      <td>Bachelor's degree or equivalent practical expe...</td>\n",
       "      <td>Solid strategic and operational client relatio...</td>\n",
       "    </tr>\n",
       "  </tbody>\n",
       "</table>\n",
       "</div>"
      ],
      "text/plain": [
       "      Company                                              Title  \\\n",
       "159   YouTube                Product Strategist, Growth, YouTube   \n",
       "309   YouTube       Performance Video Agency Specialist, YouTube   \n",
       "326   YouTube  Quality Program Manager, Global Vendor Operati...   \n",
       "421   YouTube             Online Partner Manager (MENA), YouTube   \n",
       "466   YouTube                Product Strategist, Growth, YouTube   \n",
       "514   YouTube     Enforcement Analyst, Trust and Safety, YouTube   \n",
       "601   YouTube                 Product Marketing Manager, YouTube   \n",
       "643   YouTube        Consumer Product Marketing Manager, YouTube   \n",
       "655   YouTube  Global Head of Music Social and Influencer Mar...   \n",
       "677   YouTube  Global Head of Music Social and Influencer Mar...   \n",
       "856   YouTube                      Interaction Designer, YouTube   \n",
       "897   YouTube                      Scaled Abuse Analyst, YouTube   \n",
       "912   YouTube                Product Strategist, Growth, YouTube   \n",
       "919   YouTube                       Principal, Strategy, YouTube   \n",
       "947   YouTube                              Risk Advisor, YouTube   \n",
       "1011  YouTube                Residual Manager, YouTube Originals   \n",
       "1033  YouTube                Residual Manager, YouTube Originals   \n",
       "1061  YouTube  Associate Legal Counsel, Development, Producti...   \n",
       "1069  YouTube  Legal and Policy Operations Specialist (Englis...   \n",
       "1087  YouTube  Legal Counsel, Development, Production and Lic...   \n",
       "1168  YouTube                Product Strategist, Growth, YouTube   \n",
       "1214  YouTube  Executive/Administrative Business Partner, You...   \n",
       "1226  YouTube  Real Estate and Workplace Services (REWS) Busi...   \n",
       "\n",
       "                              Category                        Location  \\\n",
       "159                  Business Strategy    San Bruno, CA, United States   \n",
       "309         Sales & Account Management     New York, NY, United States   \n",
       "326         Product & Customer Support                Hyderabad, India   \n",
       "421                       Partnerships          London, United Kingdom   \n",
       "466                  Business Strategy    San Bruno, CA, United States   \n",
       "514         Product & Customer Support                       Singapore   \n",
       "601         Marketing & Communications               Stockholm, Sweden   \n",
       "643         Marketing & Communications             Mexico City, Mexico   \n",
       "655         Marketing & Communications     New York, NY, United States   \n",
       "677         Marketing & Communications    San Bruno, CA, United States   \n",
       "856           User Experience & Design    San Bruno, CA, United States   \n",
       "897                  Business Strategy    San Bruno, CA, United States   \n",
       "912                  Business Strategy    San Bruno, CA, United States   \n",
       "919                  Business Strategy    San Bruno, CA, United States   \n",
       "947                            Finance    San Bruno, CA, United States   \n",
       "1011                           Finance  Los Angeles, CA, United States   \n",
       "1033                           Finance    San Bruno, CA, United States   \n",
       "1061      Legal & Government Relations  Los Angeles, CA, United States   \n",
       "1069      Legal & Government Relations                       Singapore   \n",
       "1087      Legal & Government Relations  Los Angeles, CA, United States   \n",
       "1168                 Business Strategy    San Bruno, CA, United States   \n",
       "1214                    Administrative  Los Angeles, CA, United States   \n",
       "1226  Real Estate & Workplace Services    San Bruno, CA, United States   \n",
       "\n",
       "                                       Responsibilities  \\\n",
       "159   Help define the performance metrics and goals ...   \n",
       "309   Manage Performance relationships from C-level ...   \n",
       "326   Build a global quality assurance program, driv...   \n",
       "421   Manage and help grow a portfolio of YouTube cr...   \n",
       "466   Help define the performance metrics and goals ...   \n",
       "514   Develop and implement strategies to enforce Yo...   \n",
       "601   Work across several aspects of marketing – fro...   \n",
       "643   Seek actionable consumer insights to inform pr...   \n",
       "655   Be responsible for building the social media a...   \n",
       "677   Be responsible for building the social media a...   \n",
       "856   Help to define the user model and user interfa...   \n",
       "897   Apply advanced statistical methods to large co...   \n",
       "912   Help define the performance metrics and goals ...   \n",
       "919   Work with YouTube’s leadership teams to define...   \n",
       "947   Partner closely with Product, Engineering, Ope...   \n",
       "1011  Manage all aspects of residual payment needs a...   \n",
       "1033  Manage all aspects of residual payment needs a...   \n",
       "1061  Consult on and draft agreements relating to th...   \n",
       "1069  Coordinate Legal operations escalations across...   \n",
       "1087  Advise management on legal challenges and agre...   \n",
       "1168  Help define the performance metrics and goals ...   \n",
       "1214  Perform an array of administrative tasks (mana...   \n",
       "1226  Thrive amidst ambiguity and be comfortable nav...   \n",
       "\n",
       "                                 Minimum Qualifications  \\\n",
       "159   BA/BS degree or equivalent practical experienc...   \n",
       "309   BA/BS degree or equivalent practical experienc...   \n",
       "326   BA/BS degree or equivalent practical experienc...   \n",
       "421   BA/BS degree or equivalent practical experienc...   \n",
       "466   BA/BS degree or equivalent practical experienc...   \n",
       "514   Master of Science degree in a technical field ...   \n",
       "601   BA/BS degree or equivalent practical experienc...   \n",
       "643   BA/BS degree or equivalent practical experienc...   \n",
       "655   BA/BS degree or equivalent practical experienc...   \n",
       "677   BA/BS degree or equivalent practical experienc...   \n",
       "856   BA/BS degree in Design (e.g., interaction, gra...   \n",
       "897   BA/BS degree or equivalent practical experienc...   \n",
       "912   BA/BS degree or equivalent practical experienc...   \n",
       "919   BA/BS degree or equivalent practical experienc...   \n",
       "947   BA/BS degree or equivalent practical experienc...   \n",
       "1011  BA/BS degree or equivalent practical experienc...   \n",
       "1033  BA/BS degree or equivalent practical experienc...   \n",
       "1061  Admitted to the bar in which this position is ...   \n",
       "1069  Experience in project and process management, ...   \n",
       "1087  Admitted to the bar in which this position is ...   \n",
       "1168  BA/BS degree or equivalent practical experienc...   \n",
       "1214  BA/BS degree or equivalent practical experienc...   \n",
       "1226  Bachelor's degree or equivalent practical expe...   \n",
       "\n",
       "                               Preferred Qualifications  \n",
       "159   10 years of experience in an analytically-inte...  \n",
       "309   Established experience relationships and prese...  \n",
       "326   Strong project management skills (e.g. ability...  \n",
       "421   Experience in the video, media, and/or enterta...  \n",
       "466   10 years of experience in an analytically-inte...  \n",
       "514   Experience or demonstrated interest in content...  \n",
       "601   MBA degree in a related field.\\nExperience dev...  \n",
       "643   MBA degree.\\nDemonstrated passion for consumer...  \n",
       "655   Experience in the music industry, with an unde...  \n",
       "677   Experience in the music industry, with an unde...  \n",
       "856   MA/MS degree in Design, HCI, CS, or a related ...  \n",
       "897   Experience with classification systems, rankin...  \n",
       "912   10 years of experience in an analytically-inte...  \n",
       "919   MBA or Master's degree in Computer Science, En...  \n",
       "947   MBA degree.\\nCPA certification.\\nExperience in...  \n",
       "1011  Experience in people and project management, i...  \n",
       "1033  Experience in people and project management, i...  \n",
       "1061  5 years of experience in entertainment law.\\nE...  \n",
       "1069  Experience in Legal operations and/or Policy e...  \n",
       "1087  12 years of experience in entertainment law wi...  \n",
       "1168  10 years of experience in an analytically-inte...  \n",
       "1214  Experience serving as a Project Lead from conc...  \n",
       "1226  Solid strategic and operational client relatio...  "
      ]
     },
     "execution_count": 8,
     "metadata": {},
     "output_type": "execute_result"
    }
   ],
   "source": [
    "# Apenas para ter um vislumbre dos dados de exclusividade do YouTube\n",
    "df[df['Company']=='YouTube']"
   ]
  },
  {
   "cell_type": "markdown",
   "metadata": {},
   "source": [
    "## 2b) Que países anunciam mais vagas?\n",
    "--------------------------------------\n",
    "\n",
    "### Criação e ajuste da coluna 'Countries' com base na coluna 'Location'."
   ]
  },
  {
   "cell_type": "code",
   "execution_count": null,
   "metadata": {},
   "outputs": [
    {
     "data": {
      "text/plain": [
       "array(['Singapore', 'Shanghai, China', 'New York, NY, United States',\n",
       "       'Mountain View, CA, United States', 'Sunnyvale, CA, United States',\n",
       "       'Dublin, Ireland', 'Xinyi District, Taiwan',\n",
       "       'Seattle, WA, United States', 'Amsterdam, Netherlands',\n",
       "       'South San Francisco, CA, United States', 'Frankfurt, Germany',\n",
       "       'Zürich, Switzerland', 'London, United Kingdom',\n",
       "       'München, Germany', 'Berlin, Germany', 'Hamburg, Germany',\n",
       "       'San Francisco, CA, United States', 'Milan, Italy',\n",
       "       'Warszawa, Poland', 'Irvine, CA, United States', 'Paris, France',\n",
       "       'Kirkland, WA, United States', 'Cambridge, MA, United States',\n",
       "       'Sydney, Australia', 'Waterloo, ON, Canada', 'Gurugram, India',\n",
       "       'Dubai - United Arab Emirates', 'Pittsburgh, PA, United States',\n",
       "       'Chicago, IL, United States', 'Bucharest, Romania',\n",
       "       'Stockholm, Sweden', 'Tokyo, Japan', 'Hyderabad, India',\n",
       "       'Seoul, South Korea', 'Perth, Australia', 'Taipei, Taiwan',\n",
       "       'San Bruno, CA, United States', 'Beijing, China', 'MG, Brazil',\n",
       "       'Milano, Italy', 'Istanbul, Turkey', 'São Paulo, Brazil',\n",
       "       'Manila, Philippines', 'Groningen, Netherlands',\n",
       "       'Bengaluru, India', 'Palo Alto, CA, United States',\n",
       "       'Tel Aviv-Yafo, Israel', 'The Dalles, OR, United States',\n",
       "       'Mumbai, India', 'Hong Kong', 'Minneapolis, MN, United States',\n",
       "       'Oslo, Norway', 'Mexico City, Mexico',\n",
       "       'Washington, DC, United States', 'Boulder, CO, United States',\n",
       "       'Wrocław, Poland', 'Ann Arbor, MI, United States',\n",
       "       'Austin, TX, United States', 'Melbourne, Australia',\n",
       "       'Helsinki, Finland', 'Johannesburg, South Africa',\n",
       "       'København, Denmark', 'Etterbeek, Belgium', 'Montreal, QC, Canada',\n",
       "       'Los Angeles, CA, United States', 'Bogotá, Colombia',\n",
       "       'Portland, OR, United States', 'Atlanta, GA, United States',\n",
       "       'Moscow, ID, United States', 'Vienna, Austria',\n",
       "       'Jakarta, Indonesia', 'Dallas, TX, United States',\n",
       "       'Reston, VA, United States', 'Moskva, Russia',\n",
       "       'Salt Lake City, UT, United States', 'Toronto, ON, Canada',\n",
       "       'Columbus, OH, United States', 'Prague, Czechia',\n",
       "       'Zagreb, Croatia', 'Athens, Greece', 'Budapest, Hungary',\n",
       "       'Madrid, Spain', 'Bangkok, Thailand', 'Bratislava, Slovakia',\n",
       "       'Vilnius, Lithuania', 'Nairobi, Kenya', 'Buenos Aires, Argentina',\n",
       "       'Kyiv, Ukraine', 'Lisbon, Portugal', 'Nigeria',\n",
       "       'Palo Alto, CA, USA', 'Kraków, Poland'], dtype=object)"
      ]
     },
     "execution_count": 9,
     "metadata": {},
     "output_type": "execute_result"
    }
   ],
   "source": [
    "df['Location'].unique()"
   ]
  },
  {
   "cell_type": "markdown",
   "metadata": {},
   "source": [
    "Para começar, vale notar o padrão da coluna 'Location', que registra os países como última informação após uma vírgula. \n",
    "\n",
    "Criarei uma coluna exclusiva para países chamada: 'Countries'. \n",
    "\n",
    "Para isso acessarei as strings da coluna 'Location', dividirei cada um delas nos lugares em que ocorre vírgula e manterei apenas a parte final. "
   ]
  },
  {
   "cell_type": "code",
   "execution_count": null,
   "metadata": {},
   "outputs": [],
   "source": [
    "df['Countries'] = df['Location'].apply(lambda x: x.split(',')[-1]) "
   ]
  },
  {
   "cell_type": "code",
   "execution_count": null,
   "metadata": {
    "scrolled": true
   },
   "outputs": [
    {
     "data": {
      "text/plain": [
       "array(['Singapore', ' China', ' United States', ' Ireland', ' Taiwan',\n",
       "       ' Netherlands', ' Germany', ' Switzerland', ' United Kingdom',\n",
       "       ' Italy', ' Poland', ' France', ' Australia', ' Canada', ' India',\n",
       "       'Dubai - United Arab Emirates', ' Romania', ' Sweden', ' Japan',\n",
       "       ' South Korea', ' Brazil', ' Turkey', ' Philippines', ' Israel',\n",
       "       'Hong Kong', ' Norway', ' Mexico', ' Finland', ' South Africa',\n",
       "       ' Denmark', ' Belgium', ' Colombia', ' Austria', ' Indonesia',\n",
       "       ' Russia', ' Czechia', ' Croatia', ' Greece', ' Hungary', ' Spain',\n",
       "       ' Thailand', ' Slovakia', ' Lithuania', ' Kenya', ' Argentina',\n",
       "       ' Ukraine', ' Portugal', 'Nigeria', ' USA'], dtype=object)"
      ]
     },
     "execution_count": 11,
     "metadata": {},
     "output_type": "execute_result"
    }
   ],
   "source": [
    "df['Countries'].unique()"
   ]
  },
  {
   "cell_type": "markdown",
   "metadata": {},
   "source": [
    "'Dubai - United Arab Emirates' fugiu ao padrão da vírgula, o que busco corrigir na linha seguinte:"
   ]
  },
  {
   "cell_type": "code",
   "execution_count": null,
   "metadata": {},
   "outputs": [],
   "source": [
    "df['Countries'] = df['Countries'].apply(lambda x: x.split('-')[-1].strip())"
   ]
  },
  {
   "cell_type": "code",
   "execution_count": null,
   "metadata": {
    "scrolled": true
   },
   "outputs": [
    {
     "data": {
      "text/plain": [
       "array(['Singapore', 'China', 'United States', 'Ireland', 'Taiwan',\n",
       "       'Netherlands', 'Germany', 'Switzerland', 'United Kingdom', 'Italy',\n",
       "       'Poland', 'France', 'Australia', 'Canada', 'India',\n",
       "       'United Arab Emirates', 'Romania', 'Sweden', 'Japan',\n",
       "       'South Korea', 'Brazil', 'Turkey', 'Philippines', 'Israel',\n",
       "       'Hong Kong', 'Norway', 'Mexico', 'Finland', 'South Africa',\n",
       "       'Denmark', 'Belgium', 'Colombia', 'Austria', 'Indonesia', 'Russia',\n",
       "       'Czechia', 'Croatia', 'Greece', 'Hungary', 'Spain', 'Thailand',\n",
       "       'Slovakia', 'Lithuania', 'Kenya', 'Argentina', 'Ukraine',\n",
       "       'Portugal', 'Nigeria', 'USA'], dtype=object)"
      ]
     },
     "execution_count": 13,
     "metadata": {},
     "output_type": "execute_result"
    }
   ],
   "source": [
    "df['Countries'].unique()"
   ]
  },
  {
   "cell_type": "markdown",
   "metadata": {},
   "source": [
    "O último ajuste necessário é eliminar formas diferentes de se referir ao mesmo objeto (o que causaria problemas de contagem no futuro). O único caso que merece nossa atenção neste sentido é 'USA' e 'United States'."
   ]
  },
  {
   "cell_type": "code",
   "execution_count": null,
   "metadata": {},
   "outputs": [],
   "source": [
    "df['Countries'] = df['Countries'].apply(lambda x: 'USA' if 'United States' in x else x)"
   ]
  },
  {
   "cell_type": "code",
   "execution_count": null,
   "metadata": {
    "scrolled": true
   },
   "outputs": [
    {
     "data": {
      "text/plain": [
       "array(['Singapore', 'China', 'USA', 'Ireland', 'Taiwan', 'Netherlands',\n",
       "       'Germany', 'Switzerland', 'United Kingdom', 'Italy', 'Poland',\n",
       "       'France', 'Australia', 'Canada', 'India', 'United Arab Emirates',\n",
       "       'Romania', 'Sweden', 'Japan', 'South Korea', 'Brazil', 'Turkey',\n",
       "       'Philippines', 'Israel', 'Hong Kong', 'Norway', 'Mexico',\n",
       "       'Finland', 'South Africa', 'Denmark', 'Belgium', 'Colombia',\n",
       "       'Austria', 'Indonesia', 'Russia', 'Czechia', 'Croatia', 'Greece',\n",
       "       'Hungary', 'Spain', 'Thailand', 'Slovakia', 'Lithuania', 'Kenya',\n",
       "       'Argentina', 'Ukraine', 'Portugal', 'Nigeria'], dtype=object)"
      ]
     },
     "execution_count": 15,
     "metadata": {},
     "output_type": "execute_result"
    }
   ],
   "source": [
    "df['Countries'].unique()"
   ]
  },
  {
   "cell_type": "markdown",
   "metadata": {},
   "source": [
    "## 2 - Vagas Anunciadas por País"
   ]
  },
  {
   "cell_type": "code",
   "execution_count": null,
   "metadata": {
    "scrolled": false
   },
   "outputs": [],
   "source": [
    "plt.figure(figsize=(10,10))\n",
    "plt.title('Oportunidades anunciadas X País', fontsize=20)\n",
    "sns.countplot(y='Countries', data=df, order = df['Countries'].value_counts().index)\n",
    "plt.xlabel('Contagem de oportunidades', fontsize=15)\n",
    "plt.ylabel('Países', fontsize=15)\n",
    "sns.set_style(\"whitegrid\");"
   ]
  },
  {
   "cell_type": "markdown",
   "metadata": {},
   "source": [
    "Talvez seja interessante registrar os dados agregados de oportunidades por país em forma de tabela:"
   ]
  },
  {
   "cell_type": "code",
   "execution_count": null,
   "metadata": {
    "scrolled": false
   },
   "outputs": [],
   "source": [
    "# Pretendo agrupar os dados por país e utilizar qualquer coluna apenas para criar a contagem das vagas existentes.\n",
    "# No caso, selecionarei a coluna 'Company' para fazer a contagem. Posteriormente esta coluna (que conterá a contagem de vagas)\n",
    "# será renomeada para 'Oportunidades', deixando a interpretação mais intuitiva.\n",
    "\n",
    "oportunidade_pais = df.groupby(['Countries']).agg({'Company': 'count'}).sort_values(by='Company', ascending=False).reset_index()\n",
    "oportunidade_pais.columns = ['Countries', 'Oportunidades']\n",
    "oportunidade_pais = oportunidade_pais.set_index('Countries')\n",
    "\n",
    "# Vamos aproveitar e ver o número de vagas dos 10 países que mais oferecem vagas\n",
    "oportunidade_pais.head(13)"
   ]
  },
  {
   "cell_type": "code",
   "execution_count": null,
   "metadata": {
    "scrolled": true
   },
   "outputs": [],
   "source": [
    "# Alguns dados sobre a distribuição de vagas por país:\n",
    "oportunidade_pais.describe()"
   ]
  },
  {
   "cell_type": "code",
   "execution_count": null,
   "metadata": {},
   "outputs": [],
   "source": [
    "# São 48 países em nossa lista.\n",
    "# A média de oportunidades é de 26 vagas, mas a mediana é de 5 vagas apenas."
   ]
  },
  {
   "cell_type": "markdown",
   "metadata": {},
   "source": [
    "### Vamos eliminar os EUA ('USA') da visualização para entrarmos na escala dos demais países: \n"
   ]
  },
  {
   "cell_type": "code",
   "execution_count": null,
   "metadata": {},
   "outputs": [],
   "source": [
    "oportunidade_pais.iloc[1:].sort_values(by='Oportunidades', ascending=True).plot(kind='barh', figsize=(15,15), legend=None)\n",
    "plt.title('Oportunidades anunciadas X País (Sem USA)', fontsize=20)\n",
    "plt.xlabel('Contagem de oportunidades', fontsize=15)\n",
    "plt.ylabel('Países', fontsize=15)\n",
    "plt.gca().spines['top'].set_visible(False)\n",
    "plt.gca().spines['right'].set_visible(False);"
   ]
  },
  {
   "cell_type": "code",
   "execution_count": null,
   "metadata": {
    "scrolled": false
   },
   "outputs": [],
   "source": [
    "# Apenas para criar a distinção entre vagas para o Youtube e vagas para o Google.\n",
    "plt.figure(figsize=(10,10))\n",
    "plt.title('Oportunidades anunciadas X País', fontsize=20)\n",
    "sns.countplot(y='Countries', data=df, order = df['Countries'].value_counts().index, hue='Company')\n",
    "plt.xlabel('Contagem de oportunidades')\n",
    "plt.ylabel('Países');"
   ]
  },
  {
   "cell_type": "code",
   "execution_count": null,
   "metadata": {},
   "outputs": [],
   "source": [
    "# Em análises futuras poderíamos agregar estes dados em falantes de lingua inglesa e não inglesa, \n",
    "#  ou poderíamos agrupar por continentes, por exemplo."
   ]
  },
  {
   "cell_type": "markdown",
   "metadata": {},
   "source": [
    "-------------------------------------------------------------"
   ]
  },
  {
   "cell_type": "markdown",
   "metadata": {},
   "source": [
    "# Vagas anunciadas para o Brasil:"
   ]
  },
  {
   "cell_type": "code",
   "execution_count": null,
   "metadata": {
    "scrolled": true
   },
   "outputs": [],
   "source": [
    "vagas_brasil = df[df['Countries']=='Brazil']['Countries'].value_counts()[0]\n",
    "\n",
    "print('Temos {} vagas anunciadas no Brasil'.format(vagas_brasil))"
   ]
  },
  {
   "cell_type": "markdown",
   "metadata": {},
   "source": [
    "#### Em que categorias e títulos tais vagas estaríam distribuídas?"
   ]
  },
  {
   "cell_type": "code",
   "execution_count": null,
   "metadata": {},
   "outputs": [],
   "source": [
    "# 1) Restringirei nossos dados aos referentes ao Brasil: df[df['Countries']=='Brazil'\n",
    "# 2) Farei uma tabela pivotante em que constem como colunas 'Category' e 'Title'.\n",
    "# 3) Usarei qualquer outra coluna, no caso Company, apenas para fazer uma contagem de elementos.\n",
    "# 4) Vou ajustá-la de forma a poder renomear as colunas na célula seguinte, deixando a interpretação mais intuitiva.\n",
    "\n",
    "oportunidades_brasil = pd.pivot_table(data=df[df['Countries']=='Brazil'], \n",
    "               index=['Category','Title'], \n",
    "               columns=['Countries'], \n",
    "               aggfunc={'Company':'count'}).reset_index()"
   ]
  },
  {
   "cell_type": "code",
   "execution_count": null,
   "metadata": {},
   "outputs": [],
   "source": [
    "oportunidades_brasil.columns = ['Categoria', 'Título', 'Número de Oportunidades']\n",
    "oportunidades_brasil"
   ]
  },
  {
   "cell_type": "markdown",
   "metadata": {},
   "source": [
    "### Partindo para uma noção mais visual de como as vagas se distribuem no Brasil:"
   ]
  },
  {
   "cell_type": "code",
   "execution_count": null,
   "metadata": {},
   "outputs": [],
   "source": [
    "plt.figure(figsize=(10,10))\n",
    "plt.subplot(2,1,2)\n",
    "plt.title('Vagas no Brasil: Títulos', fontsize=15)\n",
    "df[df['Countries']=='Brazil']['Title'].value_counts(ascending=True).plot(kind='barh')\n",
    "plt.xticks([1,2,3,4,5])\n",
    "plt.subplot(2,1,1)\n",
    "plt.title('Vagas no Brasil: Categorias', fontsize=15)\n",
    "df[df['Countries']=='Brazil']['Category'].value_counts(ascending=True).plot(kind='barh');\n"
   ]
  },
  {
   "cell_type": "markdown",
   "metadata": {},
   "source": [
    "----------------------------------\n",
    "# Categorias mais frequentes das vagas globais:"
   ]
  },
  {
   "cell_type": "code",
   "execution_count": null,
   "metadata": {},
   "outputs": [],
   "source": [
    "df['Category'].unique()"
   ]
  },
  {
   "cell_type": "code",
   "execution_count": null,
   "metadata": {
    "scrolled": true
   },
   "outputs": [],
   "source": [
    "plt.figure(figsize=(10,10))\n",
    "plt.title('Categorias mais Frequentes',  fontsize=20)\n",
    "df['Category'].value_counts(ascending=True).plot(kind='barh');"
   ]
  },
  {
   "cell_type": "code",
   "execution_count": null,
   "metadata": {},
   "outputs": [],
   "source": [
    "df['Category'].value_counts(ascending=False)"
   ]
  },
  {
   "cell_type": "markdown",
   "metadata": {},
   "source": [
    "As principais oportunidades são relacionadas a vendas e marketing e, em um terceiro lugar mais distante, finanças."
   ]
  },
  {
   "cell_type": "markdown",
   "metadata": {},
   "source": [
    "--------------------------------------------------------------------"
   ]
  },
  {
   "cell_type": "markdown",
   "metadata": {},
   "source": [
    "# Qualificação mínima:\n",
    "\n",
    "### Estudaremos a qualificação mínima quanto a:\n",
    "1) Grau de formação;\n",
    "\n",
    "2) Anos de experiência;\n",
    "\n",
    "3) Habilidades relevantes: linguagem de programação, uso de ferramentas, etc;"
   ]
  },
  {
   "cell_type": "code",
   "execution_count": null,
   "metadata": {
    "scrolled": true
   },
   "outputs": [],
   "source": [
    "df['Minimum Qualifications'].unique()"
   ]
  },
  {
   "cell_type": "code",
   "execution_count": null,
   "metadata": {
    "scrolled": true
   },
   "outputs": [],
   "source": [
    "df['Minimum Qualifications'].nunique()/df['Minimum Qualifications'].count() #65% de descrições únicas."
   ]
  },
  {
   "cell_type": "markdown",
   "metadata": {},
   "source": [
    "Criarei mais uma coluna relacionada ao grau da formação mínima exigida.\n",
    "\n",
    "Existe um certo padrão entre as descrições de 'Minimum Qualifications' em que a descrição do nível desejado precede a palavra degree. Faremos uso deste padrão na criação de uma nova coluna a seguir:"
   ]
  },
  {
   "cell_type": "code",
   "execution_count": null,
   "metadata": {},
   "outputs": [],
   "source": [
    "df['MQ_degree'] = df['Minimum Qualifications'].dropna().apply(lambda x: x.lower().split('degree')[0].strip())"
   ]
  },
  {
   "cell_type": "code",
   "execution_count": null,
   "metadata": {},
   "outputs": [],
   "source": [
    "df['MQ_degree'].nunique()"
   ]
  },
  {
   "cell_type": "code",
   "execution_count": null,
   "metadata": {},
   "outputs": [],
   "source": [
    "def find_degree(string):\n",
    "    if 'ba/bs' in string:\n",
    "        string = 'ba/bs'\n",
    "        \n",
    "    if ' ba ' in string:\n",
    "        string = 'ba'\n",
    "    \n",
    "    if ' bs ' in string:\n",
    "        string = 'bs'\n",
    "    \n",
    "    \n",
    "    if 'phd' in string:\n",
    "        string = 'phd'\n",
    "        \n",
    "    if 'ph.d' in string:\n",
    "        string = 'phd'\n",
    "        \n",
    "    if 'jd' in string:\n",
    "        string = 'jd'\n",
    "    if 'j.d.' in string:\n",
    "        string = 'jd'\n",
    "    if 'ms' in string:\n",
    "        string = 'ms'\n",
    "    if 'master' in string:\n",
    "        string = 'ms'\n",
    "    if 'bachelor' in string:\n",
    "        string = 'bachelor'\n",
    "    if 'mba' in string:\n",
    "        string = 'mba'\n",
    "    if 'major' in string:\n",
    "        string = 'major'\n",
    "    return string\n",
    "\n",
    "df['MQ_degree'] = df['MQ_degree'].dropna().apply(find_degree)"
   ]
  },
  {
   "cell_type": "code",
   "execution_count": null,
   "metadata": {},
   "outputs": [],
   "source": [
    "df['MQ_degree'].nunique()"
   ]
  },
  {
   "cell_type": "code",
   "execution_count": null,
   "metadata": {},
   "outputs": [],
   "source": [
    "df['MQ_degree'].unique()"
   ]
  },
  {
   "cell_type": "code",
   "execution_count": null,
   "metadata": {
    "scrolled": true
   },
   "outputs": [],
   "source": [
    "df"
   ]
  },
  {
   "cell_type": "code",
   "execution_count": null,
   "metadata": {},
   "outputs": [],
   "source": [
    "# selecionando apenas os títulos principais para criar uma visualização\n",
    "masked = df[df['MQ_degree'].isin(['ba/bs', 'ba','bs', 'bachelor', 'ms', 'jd', 'phd', 'mba', 'major'])]\n",
    "\n",
    "\n",
    "plt.figure(figsize=(10,10))\n",
    "plt.title('Requisitos Mínimos: Menções a Graus de Formação', fontsize=20)\n",
    "sns.countplot(y='MQ_degree', data=df, order = masked['MQ_degree'].value_counts().index )\n",
    "plt.yticks(fontsize=15)\n",
    "plt.xticks(fontsize=10)\n",
    "plt.xlabel('Menções nas Descrições das Vagas', fontsize=15)\n",
    "plt.ylabel('Formação Mínima', fontsize=15);\n",
    "\n",
    "# Um detalhe importante é que o gráfico a seguir separa as menções conjuntas a BA/BS de ocorrências isoladas de BA e BS. \n",
    "# Manterei a visualização desta forma apenas para registrar a indiferença quanto a BA (Bacharelado em Artes) e BS (Bacharelado em Ciências)\n",
    "# por parte do recrutador."
   ]
  },
  {
   "cell_type": "markdown",
   "metadata": {},
   "source": [
    "Ter um bacharelado é, definitivamente, um requisito importante.\n",
    "\n",
    "A principal descrição mais frequente refere-se a 'BA/BS', ou melhor, Bacharelado em Artes ou Bacharelado em Ciências.\n",
    "\n",
    "A segunda descrição consta simplesmente como Bacharelado. Sendo seguido por Mestrado, MBA, Major, PHD e JD (Juris Doctor).\n",
    "\n",
    "Quanto aos 'degrees' usei como referência o site https://study.com/different_degrees.html para ter um entendimento mais profundo."
   ]
  },
  {
   "cell_type": "markdown",
   "metadata": {},
   "source": [
    "## Buscarei brevemente entender como a exigência quanto a graus de formação se distribui em relação às categorias das vagas:"
   ]
  },
  {
   "cell_type": "code",
   "execution_count": null,
   "metadata": {},
   "outputs": [],
   "source": [
    "grau_de_formação = pd.pivot_table(data=df[df['MQ_degree'].isin(['ba/bs','ba','bs','bachelor','ms','jd','phd','mba','major'])],\n",
    "                                  index=['Category'], \n",
    "                                  columns=['MQ_degree'], \n",
    "                                  aggfunc={'Company':'count'}).reset_index()"
   ]
  },
  {
   "cell_type": "code",
   "execution_count": null,
   "metadata": {},
   "outputs": [],
   "source": [
    "grau_de_formação.fillna(value=0, inplace=True) # Para fazer cálculos, substituirei NaN por 0"
   ]
  },
  {
   "cell_type": "code",
   "execution_count": null,
   "metadata": {},
   "outputs": [],
   "source": [
    "grau_de_formação.head()"
   ]
  },
  {
   "cell_type": "code",
   "execution_count": null,
   "metadata": {},
   "outputs": [],
   "source": [
    "grau_de_formação.columns"
   ]
  },
  {
   "cell_type": "code",
   "execution_count": null,
   "metadata": {},
   "outputs": [],
   "source": [
    "grau_de_formação.columns = grau_de_formação.columns.droplevel() #retirando um dos níveis de coluna, para facilitar a manipulação e compreensão."
   ]
  },
  {
   "cell_type": "code",
   "execution_count": null,
   "metadata": {},
   "outputs": [],
   "source": [
    "grau_de_formação.head()"
   ]
  },
  {
   "cell_type": "code",
   "execution_count": null,
   "metadata": {
    "scrolled": true
   },
   "outputs": [],
   "source": [
    "# O que farei agora é desmembrar a menção a 'ba/bs' em categorias 'ba' e 'bs' e retirarei a menção dupla.\n",
    "# Vale lembrar que, com isso, cada vaga poderá ter mais de um 'representante' em grau de formação desejado.\n",
    "grau_de_formação['ba'] = grau_de_formação['ba'] + grau_de_formação['ba/bs']\n",
    "grau_de_formação['bs'] = grau_de_formação['bs'] + grau_de_formação['ba/bs']\n",
    "grau_de_formação.drop(columns=['ba/bs'], inplace=True)"
   ]
  },
  {
   "cell_type": "code",
   "execution_count": null,
   "metadata": {},
   "outputs": [],
   "source": [
    "# Agora criarei uma coluna para computar o grau de menções feitos ao grau de formação para cada categoria.\n",
    "grau_de_formação['totais_mencionados'] =  grau_de_formação['ba'] + grau_de_formação['bs'] + grau_de_formação['bachelor'] + grau_de_formação['jd'] + grau_de_formação['major'] + grau_de_formação['mba'] + grau_de_formação['ms'] + grau_de_formação['phd']"
   ]
  },
  {
   "cell_type": "code",
   "execution_count": null,
   "metadata": {
    "scrolled": true
   },
   "outputs": [],
   "source": [
    "# Finalmente, um registro em tabela dos graus de formação exigidos:\n",
    "grau_de_formação.sort_values(by='totais_mencionados', ascending=False)"
   ]
  },
  {
   "cell_type": "code",
   "execution_count": null,
   "metadata": {},
   "outputs": [],
   "source": [
    "tabela_grau_formacao = pd.DataFrame(grau_de_formação.drop(columns=['totais_mencionados']).sum()).reset_index().iloc[1:8]"
   ]
  },
  {
   "cell_type": "code",
   "execution_count": null,
   "metadata": {},
   "outputs": [],
   "source": [
    "tabela_grau_formacao.set_index('MQ_degree', drop=True, inplace=True)\n"
   ]
  },
  {
   "cell_type": "code",
   "execution_count": null,
   "metadata": {},
   "outputs": [],
   "source": [
    "tabela_grau_formacao.columns = ['contagem']\n",
    "tabela_grau_formacao.sort_values(by='contagem', ascending=False)"
   ]
  },
  {
   "cell_type": "code",
   "execution_count": null,
   "metadata": {},
   "outputs": [],
   "source": [
    "tabela_grau_formacao.sort_values(by='contagem', ascending=False).plot(kind='bar', figsize=(8,8), legend=None)\n",
    "plt.title('Requisitos Mínimos: Menções a Graus de Formação', fontsize=20)\n",
    "plt.ylabel('Número de Menções', fontsize=15)\n",
    "plt.xlabel('Formação Mínima Requerida', fontsize=15)\n",
    "plt.gca().spines['top'].set_visible(False)\n",
    "plt.gca().spines['right'].set_visible(False)\n",
    "plt.yticks(fontsize=15)\n",
    "plt.xticks(fontsize=15, rotation=50);\n",
    "\n",
    "# Lembremos que há vagas que mencionam mais de um grau, e estamos contando as menções de forma que estão inflando a quantidade de oportunidades."
   ]
  },
  {
   "cell_type": "markdown",
   "metadata": {},
   "source": [
    "### ANOS DE EXPERIÊNCIA: Passemos a verificar a quantidade de anos de experiência exigidos em cada vaga."
   ]
  },
  {
   "cell_type": "code",
   "execution_count": null,
   "metadata": {},
   "outputs": [],
   "source": [
    "# Criarei mais uma coluna que registre o número de anos de experiência exigido pela vaga.\n",
    "# Geralmente a menção a anos de experiência vem no formado: um ou mais algarismos + 'years'.\n",
    "# Farei uso deste padrão e utilizarei regex para capturar todos os casos.\n",
    "# Obs: verifiquei que nem todas as menções a anos sugerem necessariamente anos de experiência (em um caso, por exemplo, \n",
    "# refere-se à idade de crianças). Ainda assim, o padrão é suficientemente geral para que eu aceite o risco de errar poucas \n",
    "# vezes e tenha que refinar o tratamento mais tarde.\n",
    "\n",
    "def find_year(string):\n",
    "    finded = re.findall(r'([0-9]+) years', string) #encontrando descrições no formado: um ou mais algarismos + 'years'. Manterei apenas a parte numérica.\n",
    "    try: \n",
    "        finded = finded[0] #manterei apenas a primeira menção a anos de experiência, considerando que o mais relevante costuma ser mencionado antes\n",
    "        return finded \n",
    "    except:\n",
    "        return finded\n",
    "\n",
    "df['Years of Experience'] = df['Minimum Qualifications'].dropna().apply(lambda x: find_year(x)) "
   ]
  },
  {
   "cell_type": "code",
   "execution_count": null,
   "metadata": {
    "scrolled": true
   },
   "outputs": [],
   "source": [
    "df['Years of Experience'] = df['Years of Experience'].apply(lambda x: int(x) if type(x)==str else 0)\n",
    "df['Years of Experience']"
   ]
  },
  {
   "cell_type": "code",
   "execution_count": null,
   "metadata": {},
   "outputs": [],
   "source": [
    "# Histograma: distribuição de anos de experiência mais solicitados\n",
    "\n",
    "\n",
    "\n",
    "df['Years of Experience'].hist(bins=12, figsize=(6,6))\n",
    "plt.title('Oportunidades X Anos de Experiência Anterior', fontsize=20)\n",
    "plt.xlabel('Anos de experiência exigidos')\n",
    "plt.ylabel('Contagem de oportunidades');"
   ]
  },
  {
   "cell_type": "code",
   "execution_count": null,
   "metadata": {
    "scrolled": true
   },
   "outputs": [],
   "source": [
    "# Histograma: distribuição de anos de experiência mais solicitados (retirando o 0)\n",
    "\n",
    "df['Years of Experience'].hist(bins=10, range=[1,20], figsize=(6,6)) # Retirando o 0 da visualização\n",
    "plt.title('Distribuição de Anos de Experiência', fontsize=20)\n",
    "plt.xlabel('Anos de experiência exigidos')\n",
    "plt.ylabel('Contagem de oportunidades'); "
   ]
  },
  {
   "cell_type": "code",
   "execution_count": null,
   "metadata": {
    "scrolled": true
   },
   "outputs": [],
   "source": [
    "# Em um ranking de anos de experiência mais solicitados:\n",
    "\n",
    "df['Years of Experience'].value_counts(ascending=True).plot(kind='barh', figsize=(10,6))\n",
    "plt.title('Ranking: Anos de Experiência mais Solicitados', fontsize=15)\n",
    "plt.xlabel('Contagem de oportunidades')\n",
    "plt.ylabel('Anos de experiência exigidos'); "
   ]
  },
  {
   "cell_type": "markdown",
   "metadata": {},
   "source": [
    "### Pretendo agora verificar como estes anos de experiência exigidos são distribuídos nas diversas categorias de vagas:"
   ]
  },
  {
   "cell_type": "code",
   "execution_count": null,
   "metadata": {},
   "outputs": [],
   "source": [
    "#Primeiro criarei uma lista ordenada dos anos de experiência solicitados:\n",
    "\n",
    "anos_de_experiência = list((df['Years of Experience'].unique()))\n",
    "\n",
    "anos_de_experiência.sort()\n",
    "\n",
    "anos_de_experiência"
   ]
  },
  {
   "cell_type": "code",
   "execution_count": null,
   "metadata": {},
   "outputs": [],
   "source": [
    "# Agora, para cada ano de experiência mencionado nas vagas, quero saber quantas oportunidades existem em cada categoria de vaga. \n",
    "\n",
    "for year in anos_de_experiência:\n",
    "    \n",
    "    plt.title('Vagas para {} anos de experiência'.format(year), fontsize=15)\n",
    "    plt.xlabel('Número de Vagas', fontsize=10)\n",
    "    df[df['Years of Experience']==year].Category.value_counts(ascending=True).plot(kind='barh', figsize=(10,10))\n",
    "    plt.show()"
   ]
  },
  {
   "cell_type": "markdown",
   "metadata": {},
   "source": [
    "### OBS: As oportunidades mudam bastante de acordo com o número de anos de experiência acumulada em determinada área.\n",
    "\n",
    "#### Nota-se, por exemplo, o grande número de vagas para as áreas de vendas e soluções técnicas que não mencionam experiência prévia.\n",
    "\n",
    "#### Por outro lado, diversas vagas de Finanças exigem muitos anos de experiência.\n",
    "\n",
    "### Buscarei ilustrar estes pontos com um gráfico abaixo:"
   ]
  },
  {
   "cell_type": "code",
   "execution_count": null,
   "metadata": {},
   "outputs": [],
   "source": [
    "plt.figure(figsize=(10,40))\n",
    "plt.title('Contagem de Vagas por Categoria X Anos de Experiência', fontsize=15)\n",
    "sns.countplot(y='Category', data=df, order = df['Category'].value_counts().index, hue='Years of Experience')\n",
    "plt.xlabel('Contagem de oportunidades')\n",
    "plt.ylabel('Categoria')\n",
    "plt.legend(bbox_to_anchor=(1.05, 1), loc=2, borderaxespad=0.);"
   ]
  },
  {
   "cell_type": "markdown",
   "metadata": {},
   "source": [
    "# Linguagens de programação"
   ]
  },
  {
   "cell_type": "markdown",
   "metadata": {},
   "source": [
    "### Agora vamos analisar que linguagens de programação e tecnologias similares são mais requisitadas nas vagas:\n",
    "\n",
    "Adotei como ponto de partida o seguinte site para facilitar minha busca por linguagens de programação:\n",
    "https://www.ubuntupit.com/top-20-most-popular-programming-languages-to-learn-for-your-open-source-project/"
   ]
  },
  {
   "cell_type": "code",
   "execution_count": null,
   "metadata": {},
   "outputs": [],
   "source": [
    "df_prog = df[['Minimum Qualifications', 'Title', 'Category']].copy(deep=True)"
   ]
  },
  {
   "cell_type": "code",
   "execution_count": null,
   "metadata": {},
   "outputs": [],
   "source": [
    "popular_lang = ['JavaScript','Python', 'Java', 'PHP', 'C', 'C#', 'C\\+\\+', 'TypeScript', 'Shell', 'Ruby', \n",
    "                'SQL', 'Swift', 'Go', 'R Programming Language', 'R', 'Perl', 'Kotlin', 'Rust',\n",
    "               'Scheme', 'Elixir', 'Haskell', 'Scala', 'matlab', 'Stata', 'SAS', 'HTML', 'CSS', \n",
    "                'NodeJS', 'NET', 'Tableau',  'MapReduce', 'Hadoop', 'Spark', 'Flume', 'Hive', 'Impala', 'Spark', 'BigQuery']\n",
    "\n",
    "#detalhe: esta lista será usada para encontrar padrões com regex. E C++ apresentará problemas com metacaracteres, motivo pelo \n",
    "# qual estou já inserindo a '\\' para o '+' ser entendido apenas como um caractere e não como um metacaracter.\n",
    "\n",
    "# Obs: desculpem-me por chamar HTML de linguagem... só achei que ela poderia pegar uma carona aqui. Da mesma forma, acrescentei\n",
    "# Tableau, que é uma tecnologia de visualização, e não uma linguagem. E, generalizando o pensamento, resolvi acrescentar uma série\n",
    "# de tecnologias relacionadas ao mundo da programação (tais como o Software BigQuery).\n",
    "\n",
    "# Futuramente seria interessante ampliar esta abordagem para todas as hard skills e soft skills de todas as áreas.\n",
    "\n",
    "popular_lang = [x.lower() for x in popular_lang]\n",
    "popular_lang"
   ]
  },
  {
   "cell_type": "code",
   "execution_count": null,
   "metadata": {},
   "outputs": [],
   "source": [
    "for lang in popular_lang:\n",
    "    \n",
    "    pattern = \"[\\s]\\(?(\"+lang+\")[.,;\\/\\)]?[\\s]\"\n",
    "\n",
    "# Estou prevendo um espaço na anterior à ocorrência de cada palavra, bem como a possibilidade \n",
    "# de algum tipo de pontuação depois da palavra, seguido de novo espaço. Pensei justamente na necessidade de\n",
    "# diferenciar 'C' e 'Java' de 'C#', 'C++' ou 'Javascript' (que tem 'Java' como parte da palavra).\n",
    "\n",
    "# Finalmente, precisei acrescentar um espaço antecedendo 'C ' e 'R ' para não correr o risco de contar palavras terminadas em c ou r.\n",
    "\n",
    "# Também considerei o caso da palavra estar englobada em parênteses. \n",
    "\n",
    "# Ainda podem existir ajustes a serem feitos, mas esta é uma aproximação boa para um primeiro exame.\n",
    "    \n",
    "    \n",
    "    df_prog[lang] = df_prog['Minimum Qualifications'].apply(lambda x: 1 if re.search(pattern, str(x).lower()) else 0)"
   ]
  },
  {
   "cell_type": "code",
   "execution_count": null,
   "metadata": {
    "scrolled": false
   },
   "outputs": [],
   "source": [
    "df_prog.sum()"
   ]
  },
  {
   "cell_type": "code",
   "execution_count": null,
   "metadata": {},
   "outputs": [],
   "source": [
    "# Vou retirar a coluna referente a todas as linguagens de programação que não tiveram nehum representante:\n",
    "for lang in popular_lang:\n",
    "    if df_prog[lang].sum()==0:\n",
    "        df_prog.drop(columns=[lang], inplace=True)"
   ]
  },
  {
   "cell_type": "code",
   "execution_count": null,
   "metadata": {
    "scrolled": true
   },
   "outputs": [],
   "source": [
    "plt.figure(figsize=(10,10))\n",
    "df_prog.sum().sort_values(ascending=False).plot('bar',  color='xkcd:lightish blue')\n",
    "plt.title('Linguagens de Programação e Afins Mais Solicitadas', fontsize=20)\n",
    "plt.gca().spines['top'].set_visible(False)\n",
    "plt.gca().spines['right'].set_visible(False)\n",
    "plt.ylabel('Número de Menções')\n",
    "plt.yticks(fontsize=15);\n",
    "plt.xticks(fontsize=15, rotation=65);"
   ]
  },
  {
   "cell_type": "code",
   "execution_count": null,
   "metadata": {
    "scrolled": true
   },
   "outputs": [],
   "source": [
    "df_prog.columns"
   ]
  },
  {
   "cell_type": "code",
   "execution_count": null,
   "metadata": {
    "scrolled": true
   },
   "outputs": [],
   "source": [
    "df_prog[df_prog['c']==1]"
   ]
  },
  {
   "cell_type": "code",
   "execution_count": null,
   "metadata": {},
   "outputs": [],
   "source": [
    "df_prog.iloc[108]['Minimum Qualifications'] #Apenas verificando a exigência de C."
   ]
  },
  {
   "cell_type": "code",
   "execution_count": null,
   "metadata": {
    "scrolled": true
   },
   "outputs": [],
   "source": [
    "\n",
    "#Para vermos um pouco de como as competências em cada linguagem são requeridas em cada campo de atuação.\n",
    "\n",
    "category_lang = pd.pivot_table(data=df_prog, index=['Category'], aggfunc='sum').T\n",
    "category_lang"
   ]
  },
  {
   "cell_type": "code",
   "execution_count": null,
   "metadata": {},
   "outputs": [],
   "source": [
    "df_prog[df_prog['python']==1]"
   ]
  },
  {
   "cell_type": "code",
   "execution_count": null,
   "metadata": {
    "scrolled": true
   },
   "outputs": [],
   "source": [
    "# Neste quero investigar a distribuição de linguagens de programação por setor. \n",
    "# Manterei a mesma escala para todos os gráficos para ter visão de escala.\n",
    "\n",
    "for cat in list(df_prog.Category.unique()):\n",
    "    plt.figure(figsize=(7,7))\n",
    "    plt.title(cat, fontsize=15)\n",
    "    category_lang[cat].sort_values().plot(kind='barh', color='xkcd:lightish blue')\n",
    "    plt.xticks([n for n in range(40)])\n",
    "    plt.xticks(rotation=90)\n",
    "    plt.xlabel('Número de Menções', fontsize=15)\n",
    "    plt.show()"
   ]
  },
  {
   "cell_type": "code",
   "execution_count": null,
   "metadata": {
    "scrolled": true
   },
   "outputs": [],
   "source": [
    "# neste darei preferência para ajustar à melhor escala para cada caso:\n",
    "\n",
    "# Obs: sei que não é bonito um gráfico que não mostra nada, como no caso de 'Real State & Workplace Services', mas\n",
    "# vou mantê-lo apenas como um lembrete de que a categoria existe, mas não exige linguagens de programação.\n",
    "for cat in list(df_prog.Category.unique()):\n",
    "    plt.figure(figsize=(7,7))\n",
    "    plt.title(cat)\n",
    "    category_lang[cat].sort_values().plot(kind='barh')\n",
    "    plt.xticks(rotation=90)\n",
    "    plt.show()"
   ]
  },
  {
   "cell_type": "code",
   "execution_count": null,
   "metadata": {},
   "outputs": [],
   "source": [
    "plt.figure(figsize=(10,10))\n",
    "plt.title('Similaridade entre categorias de acordo com as linguagens/tecnologias usadas')\n",
    "sns.heatmap(category_lang.corr(), annot=True);"
   ]
  },
  {
   "cell_type": "code",
   "execution_count": null,
   "metadata": {},
   "outputs": [],
   "source": [
    "# A primeira tentativa de abordar este problema de forma generalista será a partir de um bag_of_words, \n",
    "# para verificar a frequência com que cada palavra aparece.\n"
   ]
  },
  {
   "cell_type": "code",
   "execution_count": null,
   "metadata": {
    "scrolled": true
   },
   "outputs": [],
   "source": [
    "#from scipy.spatial.distance import pdist, squareform\n",
    "similar = pd.DataFrame(1/(1+squareform(pdist(category_lang.T, 'euclidean'))), \n",
    "                       index=category_lang.columns, \n",
    "                       columns=category_lang.columns)\n",
    "\n",
    "\n",
    "similar\n",
    "\n",
    "# Aqui estamos calculando a similaridade entre as categorias considerando distância euclidiana temdo como base \n",
    "# as skills relacionadas a programação. No futuro será interessante enriquecer o dataset com outras soft e hard skills\n",
    "# relacionadas a todas as áreas. E estou fazendo isso com relação a Categorias, mas poderia ter feiro com relação ao \n",
    "#título das vagas."
   ]
  },
  {
   "cell_type": "code",
   "execution_count": null,
   "metadata": {},
   "outputs": [],
   "source": [
    "plt.figure(figsize=(10,10))\n",
    "sns.heatmap(data=similar, linewidths=1);"
   ]
  },
  {
   "cell_type": "code",
   "execution_count": null,
   "metadata": {
    "scrolled": true
   },
   "outputs": [],
   "source": [
    "df['MQ_degree'].value_counts()"
   ]
  },
  {
   "cell_type": "code",
   "execution_count": null,
   "metadata": {},
   "outputs": [],
   "source": [
    "df.head()"
   ]
  },
  {
   "cell_type": "code",
   "execution_count": null,
   "metadata": {},
   "outputs": [],
   "source": []
  },
  {
   "cell_type": "code",
   "execution_count": null,
   "metadata": {},
   "outputs": [],
   "source": [
    "# Field for minimum qualification"
   ]
  },
  {
   "cell_type": "code",
   "execution_count": null,
   "metadata": {},
   "outputs": [],
   "source": [
    "\n",
    "\n",
    "def find_field(string):\n",
    "    finded = re.findall(r'in (.*?)\\.', string) #encontrando descrições após palavra in e antes do próximo ponto. \n",
    "    try: \n",
    "        finded = finded[0]\n",
    "        return finded \n",
    "    except:\n",
    "        return finded\n",
    "\n",
    "df['MQ_field'] = df['Minimum Qualifications'].dropna().apply(lambda x: find_field(x))"
   ]
  },
  {
   "cell_type": "code",
   "execution_count": null,
   "metadata": {
    "scrolled": true
   },
   "outputs": [],
   "source": [
    "df['MQ_field'] = df['MQ_field'].astype(str)"
   ]
  },
  {
   "cell_type": "code",
   "execution_count": null,
   "metadata": {},
   "outputs": [],
   "source": [
    "df['MQ_field'].unique()"
   ]
  },
  {
   "cell_type": "code",
   "execution_count": null,
   "metadata": {},
   "outputs": [],
   "source": []
  },
  {
   "cell_type": "code",
   "execution_count": null,
   "metadata": {},
   "outputs": [],
   "source": [
    "corpus = []\n",
    "\n",
    "corpus = list(df['Minimum Qualifications'].dropna().values)\n",
    "\n",
    "def removeStuff(string):\n",
    "    import re # pacote para executar regex\n",
    "    pattern = [\n",
    "    r\"[.%!+;={}():/\\[\\]\\@\\?\\\"]\",   #remove pontuação\n",
    "    r\"\\d*\",          #remove números (vamos eliminá-los em uma primeira análise)\n",
    "    r\"\\b[a-z]\\b\",    #remove caracteres únicos\n",
    "    ]  \n",
    "    for x in pattern:\n",
    "        string = re.sub(x, '', string)\n",
    "    return string\n",
    "\n",
    "corpus = [removeStuff(string) for string in corpus]\n"
   ]
  },
  {
   "cell_type": "code",
   "execution_count": null,
   "metadata": {
    "scrolled": true
   },
   "outputs": [],
   "source": [
    "\n",
    "list_stop_words = list(stop_words.ENGLISH_STOP_WORDS)\n",
    "\n",
    "vectorizer = CountVectorizer()\n",
    "freq = vectorizer.fit_transform(corpus)\n",
    "print(vectorizer.get_feature_names())"
   ]
  },
  {
   "cell_type": "code",
   "execution_count": null,
   "metadata": {
    "scrolled": true
   },
   "outputs": [],
   "source": [
    "print(freq.toarray())"
   ]
  },
  {
   "cell_type": "code",
   "execution_count": null,
   "metadata": {},
   "outputs": [],
   "source": [
    "FreqPalavras = pd.DataFrame(freq.toarray(), columns=vectorizer.get_feature_names())\n",
    "FreqPalavras"
   ]
  },
  {
   "cell_type": "code",
   "execution_count": null,
   "metadata": {},
   "outputs": [],
   "source": [
    "retirar = [word for word in list_stop_words if word in list(vectorizer.get_feature_names())]\n",
    "\n",
    "plt.figure(figsize=(10,10))\n",
    "plt.title('Palavras mais frequentes')\n",
    "FreqPalavras.drop(columns=retirar).sum().sort_values(ascending=False)[0:40].sort_values(ascending=True).plot(kind='barh', color='xkcd:lightish blue');"
   ]
  },
  {
   "cell_type": "code",
   "execution_count": null,
   "metadata": {},
   "outputs": [],
   "source": [
    "#detalhe: o babs refere-se a 'ba/bs'"
   ]
  },
  {
   "cell_type": "code",
   "execution_count": null,
   "metadata": {},
   "outputs": [],
   "source": [
    "# Vou repetir o processo com a coluna recém criada: MQ_field"
   ]
  },
  {
   "cell_type": "code",
   "execution_count": null,
   "metadata": {},
   "outputs": [],
   "source": [
    "corpus = []\n",
    "\n",
    "corpus = list(df['MQ_field'].dropna().values)\n",
    "\n",
    "def removeStuff(string):\n",
    "    import re # pacote para executar regex\n",
    "    pattern = [\n",
    "    r\"[.%!+;={}():/\\[\\]\\@\\?\\\"]\",   #remove pontuação\n",
    "    r\"\\d*\",          #remove números (vamos eliminá-los em uma primeira análise)\n",
    "    r\"\\b[a-z]\\b\",    #remove caracteres únicos\n",
    "    ]  \n",
    "    for x in pattern:\n",
    "        string = re.sub(x, '', string)\n",
    "    return string\n",
    "\n",
    "corpus = [removeStuff(string) for string in corpus]\n",
    "\n",
    "\n",
    "list_stop_words = list(stop_words.ENGLISH_STOP_WORDS)\n",
    "\n",
    "vectorizer = CountVectorizer()\n",
    "freq = vectorizer.fit_transform(corpus)\n",
    "print(vectorizer.get_feature_names())\n",
    "\n",
    "FreqPalavras = pd.DataFrame(freq.toarray(), columns=vectorizer.get_feature_names())\n",
    "\n",
    "retirar = [word for word in list_stop_words if word in list(vectorizer.get_feature_names())]\n",
    "\n",
    "plt.figure(figsize=(10,10))\n",
    "plt.title('Palavras mais frequentes')\n",
    "FreqPalavras.drop(columns=retirar).sum().sort_values(ascending=False)[0:50].sort_values(ascending=True).plot(kind='barh');"
   ]
  },
  {
   "cell_type": "code",
   "execution_count": null,
   "metadata": {},
   "outputs": [],
   "source": [
    "FreqPalavras[['science', 'computer','engineering', 'management','business', 'sales', 'marketing', 'consulting', 'statistics', 'administration', 'accounting', 'operations']].sum().sort_values(ascending=True).plot(kind='barh')"
   ]
  },
  {
   "cell_type": "code",
   "execution_count": null,
   "metadata": {},
   "outputs": [],
   "source": []
  },
  {
   "cell_type": "code",
   "execution_count": null,
   "metadata": {},
   "outputs": [],
   "source": [
    "#Para o caso do Brasil\n",
    "\n",
    "corpus = []\n",
    "\n",
    "corpus = list(df[df['Countries']=='Brazil']['MQ_field'].dropna().values)\n",
    "\n",
    "def removeStuff(string):\n",
    "    import re # pacote para executar regex\n",
    "    pattern = [\n",
    "    r\"[.%!+;={}():/\\[\\]\\@\\?\\\"]\",   #remove pontuação\n",
    "    r\"\\d*\",          #remove números (vamos eliminá-los em uma primeira análise)\n",
    "    r\"\\b[a-z]\\b\",    #remove caracteres únicos\n",
    "    ]  \n",
    "    for x in pattern:\n",
    "        string = re.sub(x, '', string)\n",
    "    return string\n",
    "\n",
    "corpus = [removeStuff(string) for string in corpus]\n",
    "\n",
    "\n",
    "list_stop_words = list(stop_words.ENGLISH_STOP_WORDS)\n",
    "\n",
    "vectorizer = CountVectorizer()\n",
    "freq = vectorizer.fit_transform(corpus)\n",
    "print(vectorizer.get_feature_names())\n",
    "\n",
    "FreqPalavras = pd.DataFrame(freq.toarray(), columns=vectorizer.get_feature_names())\n",
    "\n",
    "retirar = [word for word in list_stop_words if word in list(vectorizer.get_feature_names())]\n",
    "\n",
    "plt.figure(figsize=(10,10))\n",
    "plt.title('Palavras mais frequentes')\n",
    "FreqPalavras.drop(columns=retirar).sum().sort_values(ascending=True).plot(kind='barh')"
   ]
  },
  {
   "cell_type": "code",
   "execution_count": null,
   "metadata": {},
   "outputs": [],
   "source": [
    "df[df['Countries']=='Brazil'].shape[0]"
   ]
  },
  {
   "cell_type": "code",
   "execution_count": null,
   "metadata": {},
   "outputs": [],
   "source": []
  },
  {
   "cell_type": "code",
   "execution_count": null,
   "metadata": {},
   "outputs": [],
   "source": []
  },
  {
   "cell_type": "code",
   "execution_count": null,
   "metadata": {},
   "outputs": [],
   "source": []
  },
  {
   "cell_type": "code",
   "execution_count": null,
   "metadata": {},
   "outputs": [],
   "source": []
  },
  {
   "cell_type": "code",
   "execution_count": null,
   "metadata": {},
   "outputs": [],
   "source": []
  },
  {
   "cell_type": "code",
   "execution_count": null,
   "metadata": {},
   "outputs": [],
   "source": []
  },
  {
   "cell_type": "code",
   "execution_count": null,
   "metadata": {},
   "outputs": [],
   "source": []
  },
  {
   "cell_type": "code",
   "execution_count": null,
   "metadata": {},
   "outputs": [],
   "source": []
  },
  {
   "cell_type": "code",
   "execution_count": null,
   "metadata": {},
   "outputs": [],
   "source": [
    "# Sobre vagas idênticas:"
   ]
  },
  {
   "cell_type": "code",
   "execution_count": null,
   "metadata": {
    "scrolled": true
   },
   "outputs": [],
   "source": [
    "df[df.duplicated()]"
   ]
  },
  {
   "cell_type": "code",
   "execution_count": null,
   "metadata": {},
   "outputs": [],
   "source": [
    "df[df.duplicated()].shape[0]"
   ]
  },
  {
   "cell_type": "code",
   "execution_count": null,
   "metadata": {},
   "outputs": [],
   "source": []
  },
  {
   "cell_type": "code",
   "execution_count": null,
   "metadata": {},
   "outputs": [],
   "source": []
  },
  {
   "cell_type": "code",
   "execution_count": null,
   "metadata": {},
   "outputs": [],
   "source": [
    "def cloud_from_column(column):\n",
    "    corpus1 = list(column.dropna().values)\n",
    "\n",
    "    text=''\n",
    "    for string in corpus1:\n",
    "        text = text + ' ' + string\n",
    "\n",
    "    wordcloud = WordCloud().generate(text)\n",
    "\n",
    "    plt.figure(figsize=(10,10))\n",
    "    plt.imshow(wordcloud, interpolation='bilinear')\n",
    "    plt.axis(\"off\")\n",
    "    plt.show()"
   ]
  },
  {
   "cell_type": "code",
   "execution_count": null,
   "metadata": {
    "scrolled": true
   },
   "outputs": [],
   "source": [
    "corpus1 = list(df['Minimum Qualifications'].dropna().values)\n",
    "\n",
    "text=''\n",
    "for string in corpus1:\n",
    "    text = text + ' ' + string\n",
    "\n",
    "wordcloud = WordCloud(background_color=\"white\").generate(text)\n",
    "\n",
    "plt.figure(figsize=(10,10))\n",
    "plt.imshow(wordcloud, interpolation='bilinear')\n",
    "plt.axis(\"off\")\n",
    "plt.show()"
   ]
  },
  {
   "cell_type": "code",
   "execution_count": null,
   "metadata": {
    "scrolled": true
   },
   "outputs": [],
   "source": [
    "corpus2 = list(df['Preferred Qualifications'].dropna().values)\n",
    "\n",
    "text2=''\n",
    "for string in corpus2:\n",
    "    text2 = text2 + ' ' + string\n",
    "\n",
    "wordcloud = WordCloud().generate(text2)\n",
    "\n",
    "plt.figure(figsize=(10,10))\n",
    "plt.imshow(wordcloud, interpolation='bilinear')\n",
    "plt.axis(\"off\")\n",
    "plt.show()"
   ]
  },
  {
   "cell_type": "code",
   "execution_count": null,
   "metadata": {
    "scrolled": true
   },
   "outputs": [],
   "source": [
    "corpus3 = list(df['Responsibilities'].dropna().values)\n",
    "\n",
    "text3=''\n",
    "for string in corpus3:\n",
    "    text3 = text3 + ' ' + string\n",
    "\n",
    "wordcloud = WordCloud().generate(text3)\n",
    "\n",
    "plt.figure(figsize=(10,10))\n",
    "plt.imshow(wordcloud, interpolation='bilinear')\n",
    "plt.axis(\"off\")\n",
    "plt.show()"
   ]
  },
  {
   "cell_type": "code",
   "execution_count": null,
   "metadata": {
    "scrolled": true
   },
   "outputs": [],
   "source": [
    "cloud_from_column(df[df['Countries']=='Brazil']['Minimum Qualifications'])\n"
   ]
  },
  {
   "cell_type": "code",
   "execution_count": null,
   "metadata": {},
   "outputs": [],
   "source": []
  },
  {
   "cell_type": "markdown",
   "metadata": {},
   "source": [
    "Referência para wordcloud: https://www.datacamp.com/community/tutorials/wordcloud-python"
   ]
  },
  {
   "cell_type": "markdown",
   "metadata": {},
   "source": [
    "Referência para sistemas de recomandação: http://coral.ufsm.br/pet-si/index.php/sistemas-de-recomendacao-desvendando-uma-parte-da-magica/"
   ]
  },
  {
   "cell_type": "markdown",
   "metadata": {},
   "source": [
    "Sobre clusterização: https://lamfo-unb.github.io/2017/10/05/Introducao_basica_a_clusterizacao/"
   ]
  },
  {
   "cell_type": "code",
   "execution_count": null,
   "metadata": {},
   "outputs": [],
   "source": [
    "# Verificar também outros conhecimentos técnicos: Unix, linux, codec, etc. Verificar outras ferramentas de cada área.\n",
    "\n",
    "# Criar uma Cloud para cada categoria.\n"
   ]
  },
  {
   "cell_type": "code",
   "execution_count": null,
   "metadata": {},
   "outputs": [],
   "source": [
    "# Se meu amigo quer muito trabalhar no google a primeira pergunta é: \n",
    "# Ele está com pressa e quer entrar onde der ou\n",
    "# ele tem tempo de se preparar e sabe em que setor quer atuar? \n",
    "# E a segunda é: Qual o nível de experiência que ele já tem? \n",
    "# Se ele tem pressa, a maior parte das vagas que não exigem anos de experiência estão nos setores: ______\n",
    "# mesmo assim, ele muito provavelmente vai precisar de ao menos um bacharelado.\n",
    "\n",
    "# Agora, se ele tem tempo de adquirir experiência e quer direcionar o que ele deve dominar,\n",
    "# temos que ter em mente quais os conhecimentos necessários em cada setor."
   ]
  },
  {
   "cell_type": "code",
   "execution_count": null,
   "metadata": {},
   "outputs": [],
   "source": [
    "# Sobre o sistema de recomendação: abrir nas ferramentas e coisas que devem ser dominadas em cada setor."
   ]
  }
 ],
 "metadata": {
  "kernelspec": {
   "display_name": "Python 3",
   "language": "python",
   "name": "python3"
  },
  "language_info": {
   "codemirror_mode": {
    "name": "ipython",
    "version": 3
   },
   "file_extension": ".py",
   "mimetype": "text/x-python",
   "name": "python",
   "nbconvert_exporter": "python",
   "pygments_lexer": "ipython3",
   "version": "3.7.3"
  }
 },
 "nbformat": 4,
 "nbformat_minor": 2
}
