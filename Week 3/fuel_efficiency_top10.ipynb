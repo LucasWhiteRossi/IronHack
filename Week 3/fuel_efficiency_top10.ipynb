{
 "cells": [
  {
   "cell_type": "code",
   "execution_count": null,
   "metadata": {},
   "outputs": [],
   "source": [
    "import pandas as pd\n",
    "import matplotlib.pyplot as plt\n",
    "import seaborn as sns\n",
    "\n",
    "year = int(input('Enter the year: '))\n",
    "title = 'Top 10 Manufacturers by Fuel Efficiency ' + str(year)\n",
    "\n",
    "def acquire():\n",
    "    data = pd.read_csv('./data sets/vehicles/vehicles.csv')\n",
    "    return data\n",
    "\n",
    "def wrangle(df):\n",
    "    filtered = data[data['Year']==year]\n",
    "    return filtered\n",
    "\n",
    "def analyze(df):\n",
    "    grouped = filtered.groupby('Make').agg({'Combined MPG':'mean'}).reset_index()\n",
    "    results = grouped.sort_values('Combined MPG', ascending=False).head(10)\n",
    "    return results\n",
    "\n",
    "def visualize(df):\n",
    "    fig, ax = plt.subplots(figsize=(15,8))\n",
    "    barchart = sns.barplot(data=results, x='Make', y='Combined MPG', palette=\"Set2\")\n",
    "    plt.title(title + \"\\n\", fontsize=16)\n",
    "    return barchart\n",
    "\n",
    "def save_viz(barchart):\n",
    "    fig = barchart.get_figure()\n",
    "    fig.savefig(title + '.png')\n",
    "\n",
    "if __name__ == '__main__':\n",
    "    data = acquire()\n",
    "    filtered = wrangle(data)\n",
    "    results = analyze(filtered)\n",
    "    barchart = visualize(results)\n",
    "    save_viz(barchart)"
   ]
  }
 ],
 "metadata": {
  "kernelspec": {
   "display_name": "Python 3",
   "language": "python",
   "name": "python3"
  },
  "language_info": {
   "codemirror_mode": {
    "name": "ipython",
    "version": 3
   },
   "file_extension": ".py",
   "mimetype": "text/x-python",
   "name": "python",
   "nbconvert_exporter": "python",
   "pygments_lexer": "ipython3",
   "version": "3.7.3"
  }
 },
 "nbformat": 4,
 "nbformat_minor": 2
}
