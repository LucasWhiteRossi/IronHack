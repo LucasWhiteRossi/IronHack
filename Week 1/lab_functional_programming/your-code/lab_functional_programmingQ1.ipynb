{
 "cells": [
  {
   "cell_type": "markdown",
   "metadata": {},
   "source": [
    "In the cell below, create a Python function that wraps your previous solution for the Bag of Words lab.\n",
    "\n",
    "Requirements:\n",
    "\n",
    "1. Your function should accept the following parameters:\n",
    "    * `docs` [REQUIRED] - array of document paths.\n",
    "    * `stop_words` [OPTIONAL] - array of stop words. The default value is an empty array.\n",
    "\n",
    "1. Your function should return a Python object that contains the following:\n",
    "    * `bag_of_words` - array of strings of normalized unique words in the corpus.\n",
    "    * `term_freq` - array of the term-frequency vectors."
   ]
  },
  {
   "cell_type": "code",
   "execution_count": 1,
   "metadata": {},
   "outputs": [],
   "source": [
    "import re"
   ]
  },
  {
   "cell_type": "code",
   "execution_count": 2,
   "metadata": {},
   "outputs": [],
   "source": [
    "# In the function, first define the variables you will use such as `corpus`, `bag_of_words`, and `term_freq`.\n",
    "    \n",
    "\"\"\"\n",
    "Loop `docs` and read the content of each doc into a string in `corpus`.\n",
    "Remember to convert the doc content to lowercases and remove punctuation.\n",
    "\"\"\"\n",
    "\n",
    "\"\"\"\n",
    "Loop `corpus`. Append the terms in each doc into the `bag_of_words` array. The terms in `bag_of_words` \n",
    "should be unique which means before adding each term you need to check if it's already added to the array.\n",
    "In addition, check if each term is in the `stop_words` array. Only append the term to `bag_of_words`\n",
    "if it is not a stop word.\n",
    "\"\"\"\n",
    "\n",
    "       \n",
    "\"\"\"\n",
    "Loop `corpus` again. For each doc string, count the number of occurrences of each term in `bag_of_words`. \n",
    "Create an array for each doc's term frequency and append it to `term_freq`.\n",
    "\"\"\"\n",
    "\n",
    "def get_bow_from_docs(docs, stop_words=[]):\n",
    "    \n",
    "    corpus = [open(doc,\"r\").read().lower().strip(\".\") for doc in docs]\n",
    "    \n",
    "    \n",
    "    if len(stop_words) > 0:\n",
    "        #ignoring stopping words\n",
    "        for i in range(len(corpus)):\n",
    "            palavras_doc = corpus[i].split()\n",
    "            palavras_doc = [palavra for palavra in palavras_doc if palavra not in stop_words]\n",
    "            corpus[i] = ' '.join(palavras_doc)\n",
    "        \n",
    "        \n",
    "    bag_of_words = []\n",
    "\n",
    "    for string in corpus:\n",
    "        terms = string.split()\n",
    "        for term in terms:\n",
    "            if term not in bag_of_words:\n",
    "                bag_of_words.append(term)\n",
    "                \n",
    "    term_freq=[]\n",
    "\n",
    "    for doc in corpus:\n",
    "        freq_for_doc = []\n",
    "        for word in bag_of_words:\n",
    "            freq_for_doc.append(doc.split().count(word))\n",
    "        term_freq.append(freq_for_doc)\n",
    "    \n",
    "\n",
    "    # Now return your output as an object\n",
    "    return {\n",
    "        \"bag_of_words\": bag_of_words,\n",
    "        \"term_freq\": term_freq\n",
    "    }\n",
    "    "
   ]
  },
  {
   "cell_type": "markdown",
   "metadata": {},
   "source": [
    "Test your function without stop words. You should see the output like below:\n",
    "\n",
    "```{'bag_of_words': ['ironhack', 'is', 'cool', 'i', 'love', 'am', 'a', 'student', 'at'], 'term_freq': [[1, 1, 1, 0, 0, 0, 0, 0, 0], [1, 0, 0, 1, 1, 0, 0, 0, 0], [1, 0, 0, 1, 0, 1, 1, 1, 1]]}```"
   ]
  },
  {
   "cell_type": "code",
   "execution_count": 3,
   "metadata": {},
   "outputs": [],
   "source": [
    "# Define doc paths array\n",
    "docs = ['doc1.txt',\n",
    "       'doc2.txt',\n",
    "       'doc3.txt']"
   ]
  },
  {
   "cell_type": "code",
   "execution_count": 4,
   "metadata": {},
   "outputs": [],
   "source": [
    "stop_words = ['all', 'six', 'less', 'being', 'indeed', 'over', 'move', 'anyway', 'fifty', 'four', 'not', 'own', 'through', 'yourselves', 'go', 'where', 'mill', 'only', 'find', 'before', 'one', 'whose', 'system', 'how', 'somewhere', 'with', 'thick', 'show', 'had', 'enough', 'should', 'to', 'must', 'whom', 'seeming', 'under', 'ours', 'has', 'might', 'thereafter', 'latterly', 'do', 'them', 'his', 'around', 'than', 'get', 'very', 'de', 'none', 'cannot', 'every', 'whether', 'they', 'front', 'during', 'thus', 'now', 'him', 'nor', 'name', 'several', 'hereafter', 'always', 'who', 'cry', 'whither', 'this', 'someone', 'either', 'each', 'become', 'thereupon', 'sometime', 'side', 'two', 'therein', 'twelve', 'because', 'often', 'ten', 'our', 'eg', 'some', 'back', 'up', 'namely', 'towards', 'are', 'further', 'beyond', 'ourselves', 'yet', 'out', 'even', 'will', 'what', 'still', 'for', 'bottom', 'mine', 'since', 'please', 'forty', 'per', 'its', 'everything', 'behind', 'un', 'above', 'between', 'it', 'neither', 'seemed', 'ever', 'across', 'she', 'somehow', 'be', 'we', 'full', 'never', 'sixty', 'however', 'here', 'otherwise', 'were', 'whereupon', 'nowhere', 'although', 'found', 'alone', 're', 'along', 'fifteen', 'by', 'both', 'about', 'last', 'would', 'anything', 'via', 'many', 'could', 'thence', 'put', 'against', 'keep', 'etc', 'amount', 'became', 'ltd', 'hence', 'onto', 'or', 'con', 'among', 'already', 'co', 'afterwards', 'formerly', 'within', 'seems', 'into', 'others', 'while', 'whatever', 'except', 'down', 'hers', 'everyone', 'done', 'least', 'another', 'whoever', 'moreover', 'couldnt', 'throughout', 'anyhow', 'yourself', 'three', 'from', 'her', 'few', 'together', 'top', 'there', 'due', 'been', 'next', 'anyone', 'eleven', 'much', 'call', 'therefore', 'interest', 'then', 'thru', 'themselves', 'hundred', 'was', 'sincere', 'empty', 'more', 'himself', 'elsewhere', 'mostly', 'on', 'fire', 'am', 'becoming', 'hereby', 'amongst', 'else', 'part', 'everywhere', 'too', 'herself', 'former', 'those', 'he', 'me', 'myself', 'made', 'twenty', 'these', 'bill', 'cant', 'us', 'until', 'besides', 'nevertheless', 'below', 'anywhere', 'nine', 'can', 'of', 'your', 'toward', 'my', 'something', 'and', 'whereafter', 'whenever', 'give', 'almost', 'wherever', 'is', 'describe', 'beforehand', 'herein', 'an', 'as', 'itself', 'at', 'have', 'in', 'seem', 'whence', 'ie', 'any', 'fill', 'again', 'hasnt', 'inc', 'thereby', 'thin', 'no', 'perhaps', 'latter', 'meanwhile', 'when', 'detail', 'same', 'wherein', 'beside', 'also', 'that', 'other', 'take', 'which', 'becomes', 'you', 'if', 'nobody', 'see', 'though', 'may', 'after', 'upon', 'most', 'hereupon', 'eight', 'but', 'serious', 'nothing', 'such', 'why', 'a', 'off', 'whereby', 'third', 'i', 'whole', 'noone', 'sometimes', 'well', 'amoungst', 'yours', 'their', 'rather', 'without', 'so', 'five', 'the', 'first', 'whereas', 'once']\n",
    "    "
   ]
  },
  {
   "cell_type": "code",
   "execution_count": 5,
   "metadata": {},
   "outputs": [],
   "source": [
    "# Obtain BoW from your function\n",
    "bow = get_bow_from_docs(docs)"
   ]
  },
  {
   "cell_type": "code",
   "execution_count": 6,
   "metadata": {},
   "outputs": [
    {
     "name": "stdout",
     "output_type": "stream",
     "text": [
      "{'bag_of_words': ['ironhack', 'is', 'cool', 'i', 'love', 'am', 'a', 'student', 'at'], 'term_freq': [[1, 1, 1, 0, 0, 0, 0, 0, 0], [1, 0, 0, 1, 1, 0, 0, 0, 0], [1, 0, 0, 1, 0, 1, 1, 1, 1]]}\n"
     ]
    }
   ],
   "source": [
    "# Print BoW\n",
    "print(bow)"
   ]
  },
  {
   "cell_type": "markdown",
   "metadata": {},
   "source": [
    "If your attempt above is successful, nice work done!\n",
    "\n",
    "Now test your function again with the stop words. In the previous lab we defined the stop words in a large array. In this lab, we'll import the stop words from Scikit-Learn."
   ]
  },
  {
   "cell_type": "code",
   "execution_count": 7,
   "metadata": {},
   "outputs": [
    {
     "name": "stdout",
     "output_type": "stream",
     "text": [
      "frozenset({'detail', 'found', 'alone', 'he', 'anyhow', 'during', 'what', 'am', 'thru', 'she', 'give', 'yourselves', 'describe', 'so', 'hereupon', 'around', 'have', 'among', 'his', 'mostly', 'con', 'amoungst', 'must', 'i', 'this', 'former', 'side', 'of', 'when', 'everywhere', 'under', 'cry', 'while', 'toward', 'whom', 'serious', 'mill', 'ie', 'nor', 'five', 'cant', 'made', 're', 'wherein', 'becomes', 'do', 'here', 'from', 'again', 'may', 'becoming', 'eg', 'with', 'could', 'mine', 'itself', 'twenty', 'about', 'thereafter', 'never', 'still', 'further', 'moreover', 'somehow', 'none', 'often', 'perhaps', 'get', 'up', 'formerly', 'name', 'elsewhere', 'you', 'all', 'although', 'anyone', 'throughout', 'any', 'behind', 'has', 'be', 'but', 'seeming', 'everything', 'other', 'eight', 'show', 'cannot', 'hundred', 'keep', 'seems', 'along', 'two', 'ever', 'nevertheless', 'bill', 'through', 'please', 'whoever', 'except', 'etc', 'co', 'latterly', 'hereafter', 'ours', 'whose', 'the', 'each', 'nothing', 'then', 'without', 'back', 'due', 'them', 'are', 'besides', 'out', 'sometime', 'whither', 'those', 'myself', 'too', 'sometimes', 'across', 'most', 'full', 'whatever', 'neither', 'were', 'onto', 'couldnt', 'down', 'otherwise', 'these', 'on', 'thence', 'either', 'three', 'only', 'where', 'beside', 'fire', 'done', 'others', 'themselves', 'anywhere', 'un', 'nobody', 'namely', 'below', 'however', 'afterwards', 'many', 'whole', 'within', 'almost', 'by', 'ourselves', 'anything', 'or', 'became', 'de', 'can', 'also', 'even', 'nowhere', 'after', 'hereby', 'eleven', 'for', 'us', 'my', 'go', 'yourself', 'we', 'yet', 'amongst', 'over', 'above', 'per', 'whereas', 'being', 'in', 'meanwhile', 'become', 'her', 'empty', 'whence', 'already', 'seem', 'latter', 'enough', 'thereupon', 'an', 'together', 'everyone', 'thus', 'same', 'inc', 'system', 'me', 'ltd', 'to', 'therein', 'no', 'against', 'interest', 'since', 'himself', 'always', 'had', 'four', 'six', 'much', 'your', 'both', 'own', 'it', 'such', 'find', 'well', 'was', 'via', 'towards', 'they', 'someone', 'their', 'very', 'whereupon', 'fifty', 'some', 'not', 'put', 'else', 'because', 'if', 'sixty', 'why', 'call', 'rather', 'forty', 'and', 'several', 'as', 'beyond', 'last', 'one', 'there', 'until', 'next', 'fill', 'whereby', 'whereafter', 'somewhere', 'hers', 'indeed', 'noone', 'than', 'move', 'who', 'upon', 'herein', 'thin', 'thereby', 'every', 'would', 'fifteen', 'take', 'front', 'nine', 'something', 'whether', 'might', 'now', 'yours', 'hence', 'beforehand', 'thick', 'third', 'before', 'least', 'at', 'therefore', 'will', 'how', 'seemed', 'been', 'another', 'first', 'bottom', 'hasnt', 'amount', 'wherever', 'few', 'into', 'part', 'twelve', 'once', 'less', 'between', 'whenever', 'that', 'herself', 'a', 'though', 'sincere', 'our', 'anyway', 'see', 'top', 'its', 'ten', 'off', 'more', 'is', 'which', 'him', 'should'})\n"
     ]
    }
   ],
   "source": [
    "from sklearn.feature_extraction import stop_words\n",
    "print(stop_words.ENGLISH_STOP_WORDS)"
   ]
  },
  {
   "cell_type": "markdown",
   "metadata": {},
   "source": [
    "You should have seen a large list of words that looks like:\n",
    "\n",
    "```frozenset({'across', 'mine', 'cannot', ...})```\n",
    "\n",
    "`frozenset` is a type of Python object that is immutable. In this lab you can use it just like an array without conversion."
   ]
  },
  {
   "cell_type": "markdown",
   "metadata": {},
   "source": [
    "Next, test your function with supplying `stop_words.ENGLISH_STOP_WORDS` as the second parameter."
   ]
  },
  {
   "cell_type": "code",
   "execution_count": 8,
   "metadata": {},
   "outputs": [],
   "source": [
    "bow = get_bow_from_docs(docs, stop_words=stop_words.ENGLISH_STOP_WORDS)"
   ]
  },
  {
   "cell_type": "code",
   "execution_count": 9,
   "metadata": {},
   "outputs": [
    {
     "name": "stdout",
     "output_type": "stream",
     "text": [
      "{'bag_of_words': ['ironhack', 'cool', 'love', 'student'], 'term_freq': [[1, 1, 0, 0], [1, 0, 1, 0], [1, 0, 0, 1]]}\n"
     ]
    }
   ],
   "source": [
    "print(bow)"
   ]
  },
  {
   "cell_type": "markdown",
   "metadata": {},
   "source": [
    "You should have seen:\n",
    "\n",
    "```{'bag_of_words': ['ironhack', 'cool', 'love', 'student'], 'term_freq': [[1, 1, 0, 0], [1, 0, 1, 0], [1, 0, 0, 1]]}```"
   ]
  }
 ],
 "metadata": {
  "kernelspec": {
   "display_name": "Python 3",
   "language": "python",
   "name": "python3"
  },
  "language_info": {
   "codemirror_mode": {
    "name": "ipython",
    "version": 3
   },
   "file_extension": ".py",
   "mimetype": "text/x-python",
   "name": "python",
   "nbconvert_exporter": "python",
   "pygments_lexer": "ipython3",
   "version": "3.7.3"
  }
 },
 "nbformat": 4,
 "nbformat_minor": 4
}
